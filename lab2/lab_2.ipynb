{
   "cells": [
      {
         "cell_type": "markdown",
         "metadata": {
            "pycharm": {
               "name": "#%% md\n"
            }
         },
         "source": [
            "# Klasyfikacja niezbalansowana, klasyfikatory zespołowe i wyjaśnialna AI"
         ]
      },
      {
         "cell_type": "markdown",
         "metadata": {
            "pycharm": {
               "name": "#%% md\n"
            }
         },
         "source": [
            "## Wykorzystanie Google Colab\n",
            "\n",
            "Jeśli korzystasz z Google Colab skopiuj plik `feature_names.json` do katalogu głównego projektu.\n",
            "\n",
            "[![Open in Colab](https://colab.research.google.com/assets/colab-badge.svg)](https://colab.research.google.com/github/apohllo/sztuczna-inteligencja/blob/master/lab2/lab_2.ipynb)"
         ]
      },
      {
         "cell_type": "markdown",
         "metadata": {
            "editable": true,
            "pycharm": {
               "name": "#%% md\n"
            },
            "slideshow": {
               "slide_type": ""
            },
            "tags": []
         },
         "source": [
            "## Ładowanie i eksploracja danych"
         ]
      },
      {
         "cell_type": "markdown",
         "metadata": {
            "editable": true,
            "pycharm": {
               "name": "#%% md\n"
            },
            "slideshow": {
               "slide_type": ""
            },
            "tags": []
         },
         "source": [
            "W trakcie tych zajęć laboratoryjnych wykorzystamy zbiór danych [Polish companies bankruptcy](https://archive.ics.uci.edu/ml/datasets/Polish+companies+bankruptcy+data). Dotyczy on klasyfikacji, na podstawie danych z raportów finansowych, czy firma zbankrutuje w ciągu najbliższych kilku lat. Jest to zadanie szczególnie istotne dla banków, funduszy inwestycyjnych, firm ubezpieczeniowych itp. Zbiór zawiera 64 cechy obliczonych przez ekonomistów. Są one opisane na wspomnianej wcześniej stronie. Dotyczą one zysków firm, posiadanych zasobów, długów itp.\n",
            "\n",
            "Ściągnij i rozpakuj dane (`Data Folder` -> `data.zip`) do katalogu `data` obok tego notebooka. Znajduje się tam 5 plików w formacie `.arff`, wykorzystywanym głównie przez oprogramowanie Weka. Jest to program do wyposażony w graficzny interfejs użytkownika, który był często używany przez mniej techincznie obeznanych użytkowników. W Pythonie dane w tym formacie ładuje się  za pomocą bibliotek SciPy i Pandas.\n"
         ]
      },
      {
         "cell_type": "markdown",
         "metadata": {},
         "source": [
            "Jeśli korzystasz z Linuksa możesz skorzystać z poniższych poleceń do pobrania i rozpakowania tych plików."
         ]
      },
      {
         "cell_type": "code",
         "execution_count": 3,
         "metadata": {
            "ExecuteTime": {
               "end_time": "2023-10-17T12:09:50.173669Z",
               "start_time": "2023-10-17T12:09:24.311939Z"
            },
            "editable": true,
            "slideshow": {
               "slide_type": ""
            },
            "tags": []
         },
         "outputs": [],
         "source": [
            "# !mkdir -p data\n",
            "# !wget https://archive.ics.uci.edu/static/public/365/polish+companies+bankruptcy+data.zip -O data/data.zip"
         ]
      },
      {
         "cell_type": "code",
         "execution_count": 4,
         "metadata": {
            "ExecuteTime": {
               "end_time": "2023-10-17T12:10:04.017260Z",
               "start_time": "2023-10-17T12:09:57.831756Z"
            },
            "editable": true,
            "slideshow": {
               "slide_type": ""
            },
            "tags": []
         },
         "outputs": [],
         "source": [
            "# !unzip data/data.zip -d data"
         ]
      },
      {
         "cell_type": "markdown",
         "metadata": {
            "editable": true,
            "slideshow": {
               "slide_type": ""
            },
            "tags": []
         },
         "source": [
            "\n",
            "W dalszej części laboratorium wykorzystamy plik `3year.arff`, w którym na podstawie danych finansowych firmy po 3 latach monitorowania chcemy przewidywać, czy firma zbankrutuje w ciągu najbliższych 3 lat. Jest to dość realistyczny horyzont czasowy.\n",
            "\n",
            "Dodatkowo w pliku `feature_names.json` znajdują się nazwy cech. Nazwy są bardzo długie, więc póki co nie będziemy z nich korzystać."
         ]
      },
      {
         "cell_type": "code",
         "execution_count": 5,
         "metadata": {
            "editable": true,
            "pycharm": {
               "name": "#%%\n"
            },
            "slideshow": {
               "slide_type": ""
            },
            "tags": []
         },
         "outputs": [],
         "source": [
            "import json\n",
            "import os\n",
            "\n",
            "from scipy.io import arff\n",
            "import pandas as pd\n",
            "import matplotlib.pyplot as plt\n",
            "\n",
            "data = arff.loadarff(os.path.join(\"data\", \"3year.arff\"))\n",
            "\n",
            "with open(\"feature_names.json\") as file:\n",
            "    feature_names = json.load(file)\n",
            "\n",
            "X = pd.DataFrame(data[0])"
         ]
      },
      {
         "cell_type": "markdown",
         "metadata": {
            "pycharm": {
               "name": "#%% md\n"
            }
         },
         "source": [
            "Przyjrzyjmy się teraz naszym danym."
         ]
      },
      {
         "cell_type": "code",
         "execution_count": 6,
         "metadata": {
            "editable": true,
            "pycharm": {
               "name": "#%%\n"
            },
            "slideshow": {
               "slide_type": ""
            },
            "tags": []
         },
         "outputs": [
            {
               "data": {
                  "text/html": [
                     "<div>\n",
                     "<style scoped>\n",
                     "    .dataframe tbody tr th:only-of-type {\n",
                     "        vertical-align: middle;\n",
                     "    }\n",
                     "\n",
                     "    .dataframe tbody tr th {\n",
                     "        vertical-align: top;\n",
                     "    }\n",
                     "\n",
                     "    .dataframe thead th {\n",
                     "        text-align: right;\n",
                     "    }\n",
                     "</style>\n",
                     "<table border=\"1\" class=\"dataframe\">\n",
                     "  <thead>\n",
                     "    <tr style=\"text-align: right;\">\n",
                     "      <th></th>\n",
                     "      <th>Attr1</th>\n",
                     "      <th>Attr2</th>\n",
                     "      <th>Attr3</th>\n",
                     "      <th>Attr4</th>\n",
                     "      <th>Attr5</th>\n",
                     "      <th>Attr6</th>\n",
                     "      <th>Attr7</th>\n",
                     "      <th>Attr8</th>\n",
                     "      <th>Attr9</th>\n",
                     "      <th>Attr10</th>\n",
                     "      <th>Attr11</th>\n",
                     "      <th>Attr12</th>\n",
                     "      <th>Attr13</th>\n",
                     "      <th>Attr14</th>\n",
                     "      <th>Attr15</th>\n",
                     "      <th>Attr16</th>\n",
                     "      <th>Attr17</th>\n",
                     "      <th>Attr18</th>\n",
                     "      <th>Attr19</th>\n",
                     "      <th>Attr20</th>\n",
                     "      <th>Attr21</th>\n",
                     "      <th>Attr22</th>\n",
                     "      <th>Attr23</th>\n",
                     "      <th>Attr24</th>\n",
                     "      <th>Attr25</th>\n",
                     "      <th>Attr26</th>\n",
                     "      <th>Attr27</th>\n",
                     "      <th>Attr28</th>\n",
                     "      <th>Attr29</th>\n",
                     "      <th>Attr30</th>\n",
                     "      <th>Attr31</th>\n",
                     "      <th>Attr32</th>\n",
                     "      <th>Attr33</th>\n",
                     "      <th>Attr34</th>\n",
                     "      <th>Attr35</th>\n",
                     "      <th>Attr36</th>\n",
                     "      <th>Attr37</th>\n",
                     "      <th>Attr38</th>\n",
                     "      <th>Attr39</th>\n",
                     "      <th>Attr40</th>\n",
                     "      <th>Attr41</th>\n",
                     "      <th>Attr42</th>\n",
                     "      <th>Attr43</th>\n",
                     "      <th>Attr44</th>\n",
                     "      <th>Attr45</th>\n",
                     "      <th>Attr46</th>\n",
                     "      <th>Attr47</th>\n",
                     "      <th>Attr48</th>\n",
                     "      <th>Attr49</th>\n",
                     "      <th>Attr50</th>\n",
                     "      <th>Attr51</th>\n",
                     "      <th>Attr52</th>\n",
                     "      <th>Attr53</th>\n",
                     "      <th>Attr54</th>\n",
                     "      <th>Attr55</th>\n",
                     "      <th>Attr56</th>\n",
                     "      <th>Attr57</th>\n",
                     "      <th>Attr58</th>\n",
                     "      <th>Attr59</th>\n",
                     "      <th>Attr60</th>\n",
                     "      <th>Attr61</th>\n",
                     "      <th>Attr62</th>\n",
                     "      <th>Attr63</th>\n",
                     "      <th>Attr64</th>\n",
                     "      <th>class</th>\n",
                     "    </tr>\n",
                     "  </thead>\n",
                     "  <tbody>\n",
                     "    <tr>\n",
                     "      <th>0</th>\n",
                     "      <td>0.174190</td>\n",
                     "      <td>0.41299</td>\n",
                     "      <td>0.14371</td>\n",
                     "      <td>1.3480</td>\n",
                     "      <td>-28.9820</td>\n",
                     "      <td>0.60383</td>\n",
                     "      <td>0.219460</td>\n",
                     "      <td>1.1225</td>\n",
                     "      <td>1.1961</td>\n",
                     "      <td>0.46359</td>\n",
                     "      <td>0.219460</td>\n",
                     "      <td>0.531390</td>\n",
                     "      <td>0.142330</td>\n",
                     "      <td>0.219460</td>\n",
                     "      <td>592.24</td>\n",
                     "      <td>0.61630</td>\n",
                     "      <td>2.4213</td>\n",
                     "      <td>0.219460</td>\n",
                     "      <td>0.122720</td>\n",
                     "      <td>37.573</td>\n",
                     "      <td>0.99690</td>\n",
                     "      <td>0.295100</td>\n",
                     "      <td>0.097402</td>\n",
                     "      <td>0.75641</td>\n",
                     "      <td>0.46359</td>\n",
                     "      <td>0.50669</td>\n",
                     "      <td>1.97370</td>\n",
                     "      <td>0.32417</td>\n",
                     "      <td>5.9473</td>\n",
                     "      <td>0.224930</td>\n",
                     "      <td>0.122720</td>\n",
                     "      <td>100.820</td>\n",
                     "      <td>3.6203</td>\n",
                     "      <td>0.71453</td>\n",
                     "      <td>0.295100</td>\n",
                     "      <td>1.8079</td>\n",
                     "      <td>123140.0000</td>\n",
                     "      <td>0.46359</td>\n",
                     "      <td>0.165010</td>\n",
                     "      <td>0.212820</td>\n",
                     "      <td>0.041124</td>\n",
                     "      <td>0.165010</td>\n",
                     "      <td>95.682</td>\n",
                     "      <td>58.109</td>\n",
                     "      <td>0.946210</td>\n",
                     "      <td>0.90221</td>\n",
                     "      <td>44.941</td>\n",
                     "      <td>0.260030</td>\n",
                     "      <td>0.145400</td>\n",
                     "      <td>1.3480</td>\n",
                     "      <td>0.41299</td>\n",
                     "      <td>0.27622</td>\n",
                     "      <td>1.0457</td>\n",
                     "      <td>1.0458</td>\n",
                     "      <td>127280.0</td>\n",
                     "      <td>0.163960</td>\n",
                     "      <td>0.375740</td>\n",
                     "      <td>0.83604</td>\n",
                     "      <td>0.000007</td>\n",
                     "      <td>9.7145</td>\n",
                     "      <td>6.2813</td>\n",
                     "      <td>84.291</td>\n",
                     "      <td>4.3303</td>\n",
                     "      <td>4.0341</td>\n",
                     "      <td>b'0'</td>\n",
                     "    </tr>\n",
                     "    <tr>\n",
                     "      <th>1</th>\n",
                     "      <td>0.146240</td>\n",
                     "      <td>0.46038</td>\n",
                     "      <td>0.28230</td>\n",
                     "      <td>1.6294</td>\n",
                     "      <td>2.5952</td>\n",
                     "      <td>0.00000</td>\n",
                     "      <td>0.171850</td>\n",
                     "      <td>1.1721</td>\n",
                     "      <td>1.6018</td>\n",
                     "      <td>0.53962</td>\n",
                     "      <td>0.175790</td>\n",
                     "      <td>0.383170</td>\n",
                     "      <td>0.126470</td>\n",
                     "      <td>0.171850</td>\n",
                     "      <td>829.46</td>\n",
                     "      <td>0.44004</td>\n",
                     "      <td>2.1721</td>\n",
                     "      <td>0.171850</td>\n",
                     "      <td>0.107280</td>\n",
                     "      <td>60.954</td>\n",
                     "      <td>5.08890</td>\n",
                     "      <td>0.175710</td>\n",
                     "      <td>0.091295</td>\n",
                     "      <td>NaN</td>\n",
                     "      <td>0.17523</td>\n",
                     "      <td>0.38442</td>\n",
                     "      <td>44.59300</td>\n",
                     "      <td>1.04860</td>\n",
                     "      <td>4.0792</td>\n",
                     "      <td>0.243840</td>\n",
                     "      <td>0.109740</td>\n",
                     "      <td>105.090</td>\n",
                     "      <td>3.4733</td>\n",
                     "      <td>3.38360</td>\n",
                     "      <td>0.044076</td>\n",
                     "      <td>1.6018</td>\n",
                     "      <td>NaN</td>\n",
                     "      <td>0.53962</td>\n",
                     "      <td>0.027516</td>\n",
                     "      <td>0.164060</td>\n",
                     "      <td>0.074333</td>\n",
                     "      <td>0.109690</td>\n",
                     "      <td>149.750</td>\n",
                     "      <td>88.801</td>\n",
                     "      <td>0.546690</td>\n",
                     "      <td>1.03300</td>\n",
                     "      <td>62.678</td>\n",
                     "      <td>0.144970</td>\n",
                     "      <td>0.090503</td>\n",
                     "      <td>1.5874</td>\n",
                     "      <td>0.44849</td>\n",
                     "      <td>0.28791</td>\n",
                     "      <td>2.0044</td>\n",
                     "      <td>2.0044</td>\n",
                     "      <td>3387.8</td>\n",
                     "      <td>0.027516</td>\n",
                     "      <td>0.271000</td>\n",
                     "      <td>0.90108</td>\n",
                     "      <td>0.000000</td>\n",
                     "      <td>5.9882</td>\n",
                     "      <td>4.1103</td>\n",
                     "      <td>102.190</td>\n",
                     "      <td>3.5716</td>\n",
                     "      <td>5.9500</td>\n",
                     "      <td>b'0'</td>\n",
                     "    </tr>\n",
                     "    <tr>\n",
                     "      <th>2</th>\n",
                     "      <td>0.000595</td>\n",
                     "      <td>0.22612</td>\n",
                     "      <td>0.48839</td>\n",
                     "      <td>3.1599</td>\n",
                     "      <td>84.8740</td>\n",
                     "      <td>0.19114</td>\n",
                     "      <td>0.004572</td>\n",
                     "      <td>2.9881</td>\n",
                     "      <td>1.0077</td>\n",
                     "      <td>0.67566</td>\n",
                     "      <td>0.004572</td>\n",
                     "      <td>0.020219</td>\n",
                     "      <td>0.030966</td>\n",
                     "      <td>0.004572</td>\n",
                     "      <td>2094.10</td>\n",
                     "      <td>0.17430</td>\n",
                     "      <td>4.4225</td>\n",
                     "      <td>0.004572</td>\n",
                     "      <td>0.003592</td>\n",
                     "      <td>53.881</td>\n",
                     "      <td>0.67451</td>\n",
                     "      <td>0.040610</td>\n",
                     "      <td>0.000468</td>\n",
                     "      <td>0.23470</td>\n",
                     "      <td>0.67566</td>\n",
                     "      <td>0.15672</td>\n",
                     "      <td>0.32153</td>\n",
                     "      <td>1.71070</td>\n",
                     "      <td>4.6220</td>\n",
                     "      <td>0.036196</td>\n",
                     "      <td>0.003592</td>\n",
                     "      <td>65.345</td>\n",
                     "      <td>5.5857</td>\n",
                     "      <td>0.17960</td>\n",
                     "      <td>0.040610</td>\n",
                     "      <td>1.3425</td>\n",
                     "      <td>NaN</td>\n",
                     "      <td>0.67566</td>\n",
                     "      <td>0.031907</td>\n",
                     "      <td>0.844690</td>\n",
                     "      <td>0.098528</td>\n",
                     "      <td>0.031907</td>\n",
                     "      <td>150.130</td>\n",
                     "      <td>96.251</td>\n",
                     "      <td>0.003168</td>\n",
                     "      <td>2.32900</td>\n",
                     "      <td>54.296</td>\n",
                     "      <td>0.005769</td>\n",
                     "      <td>0.004533</td>\n",
                     "      <td>3.1599</td>\n",
                     "      <td>0.22612</td>\n",
                     "      <td>0.17903</td>\n",
                     "      <td>2.3667</td>\n",
                     "      <td>2.3667</td>\n",
                     "      <td>20453.0</td>\n",
                     "      <td>0.007639</td>\n",
                     "      <td>0.000881</td>\n",
                     "      <td>0.99236</td>\n",
                     "      <td>0.000000</td>\n",
                     "      <td>6.7742</td>\n",
                     "      <td>3.7922</td>\n",
                     "      <td>64.846</td>\n",
                     "      <td>5.6287</td>\n",
                     "      <td>4.4581</td>\n",
                     "      <td>b'0'</td>\n",
                     "    </tr>\n",
                     "    <tr>\n",
                     "      <th>3</th>\n",
                     "      <td>0.024526</td>\n",
                     "      <td>0.43236</td>\n",
                     "      <td>0.27546</td>\n",
                     "      <td>1.7833</td>\n",
                     "      <td>-10.1050</td>\n",
                     "      <td>0.56944</td>\n",
                     "      <td>0.024526</td>\n",
                     "      <td>1.3057</td>\n",
                     "      <td>1.0509</td>\n",
                     "      <td>0.56453</td>\n",
                     "      <td>0.024526</td>\n",
                     "      <td>0.069747</td>\n",
                     "      <td>0.036812</td>\n",
                     "      <td>0.024526</td>\n",
                     "      <td>3299.40</td>\n",
                     "      <td>0.11063</td>\n",
                     "      <td>2.3129</td>\n",
                     "      <td>0.024526</td>\n",
                     "      <td>0.018876</td>\n",
                     "      <td>86.317</td>\n",
                     "      <td>0.62795</td>\n",
                     "      <td>0.055446</td>\n",
                     "      <td>0.018876</td>\n",
                     "      <td>0.56944</td>\n",
                     "      <td>0.56453</td>\n",
                     "      <td>0.11063</td>\n",
                     "      <td>0.44844</td>\n",
                     "      <td>0.73869</td>\n",
                     "      <td>4.2600</td>\n",
                     "      <td>0.286240</td>\n",
                     "      <td>0.018876</td>\n",
                     "      <td>103.810</td>\n",
                     "      <td>3.5161</td>\n",
                     "      <td>0.12824</td>\n",
                     "      <td>0.055446</td>\n",
                     "      <td>1.3068</td>\n",
                     "      <td>3.9624</td>\n",
                     "      <td>0.64524</td>\n",
                     "      <td>0.042673</td>\n",
                     "      <td>0.178260</td>\n",
                     "      <td>0.180500</td>\n",
                     "      <td>0.042673</td>\n",
                     "      <td>158.550</td>\n",
                     "      <td>72.237</td>\n",
                     "      <td>0.079819</td>\n",
                     "      <td>0.90954</td>\n",
                     "      <td>90.707</td>\n",
                     "      <td>0.032141</td>\n",
                     "      <td>0.024737</td>\n",
                     "      <td>1.4504</td>\n",
                     "      <td>0.35164</td>\n",
                     "      <td>0.28440</td>\n",
                     "      <td>1.5139</td>\n",
                     "      <td>1.7303</td>\n",
                     "      <td>5012.6</td>\n",
                     "      <td>0.048398</td>\n",
                     "      <td>0.043445</td>\n",
                     "      <td>0.95160</td>\n",
                     "      <td>0.142980</td>\n",
                     "      <td>4.2286</td>\n",
                     "      <td>5.0528</td>\n",
                     "      <td>98.783</td>\n",
                     "      <td>3.6950</td>\n",
                     "      <td>3.4844</td>\n",
                     "      <td>b'0'</td>\n",
                     "    </tr>\n",
                     "    <tr>\n",
                     "      <th>4</th>\n",
                     "      <td>0.188290</td>\n",
                     "      <td>0.41504</td>\n",
                     "      <td>0.34231</td>\n",
                     "      <td>1.9279</td>\n",
                     "      <td>-58.2740</td>\n",
                     "      <td>0.00000</td>\n",
                     "      <td>0.233580</td>\n",
                     "      <td>1.4094</td>\n",
                     "      <td>1.3393</td>\n",
                     "      <td>0.58496</td>\n",
                     "      <td>0.238810</td>\n",
                     "      <td>0.633170</td>\n",
                     "      <td>0.187800</td>\n",
                     "      <td>0.233580</td>\n",
                     "      <td>602.31</td>\n",
                     "      <td>0.60600</td>\n",
                     "      <td>2.4094</td>\n",
                     "      <td>0.233580</td>\n",
                     "      <td>0.174410</td>\n",
                     "      <td>140.860</td>\n",
                     "      <td>1.20390</td>\n",
                     "      <td>0.234930</td>\n",
                     "      <td>0.140590</td>\n",
                     "      <td>0.00000</td>\n",
                     "      <td>0.57250</td>\n",
                     "      <td>0.49687</td>\n",
                     "      <td>44.94700</td>\n",
                     "      <td>1.18530</td>\n",
                     "      <td>4.6033</td>\n",
                     "      <td>0.306910</td>\n",
                     "      <td>0.177840</td>\n",
                     "      <td>122.090</td>\n",
                     "      <td>2.9897</td>\n",
                     "      <td>2.65740</td>\n",
                     "      <td>0.236350</td>\n",
                     "      <td>1.3393</td>\n",
                     "      <td>4.5490</td>\n",
                     "      <td>0.62769</td>\n",
                     "      <td>0.176480</td>\n",
                     "      <td>0.013769</td>\n",
                     "      <td>0.054712</td>\n",
                     "      <td>0.175420</td>\n",
                     "      <td>192.450</td>\n",
                     "      <td>51.585</td>\n",
                     "      <td>0.364290</td>\n",
                     "      <td>0.52685</td>\n",
                     "      <td>171.050</td>\n",
                     "      <td>0.216990</td>\n",
                     "      <td>0.162030</td>\n",
                     "      <td>1.7136</td>\n",
                     "      <td>0.36891</td>\n",
                     "      <td>0.33449</td>\n",
                     "      <td>2.0256</td>\n",
                     "      <td>2.1735</td>\n",
                     "      <td>13730.0</td>\n",
                     "      <td>0.176480</td>\n",
                     "      <td>0.321880</td>\n",
                     "      <td>0.82635</td>\n",
                     "      <td>0.073039</td>\n",
                     "      <td>2.5912</td>\n",
                     "      <td>7.0756</td>\n",
                     "      <td>100.540</td>\n",
                     "      <td>3.6303</td>\n",
                     "      <td>4.6375</td>\n",
                     "      <td>b'0'</td>\n",
                     "    </tr>\n",
                     "  </tbody>\n",
                     "</table>\n",
                     "</div>"
                  ],
                  "text/plain": [
                     "      Attr1    Attr2    Attr3   Attr4  ...   Attr62  Attr63  Attr64  class\n",
                     "0  0.174190  0.41299  0.14371  1.3480  ...   84.291  4.3303  4.0341   b'0'\n",
                     "1  0.146240  0.46038  0.28230  1.6294  ...  102.190  3.5716  5.9500   b'0'\n",
                     "2  0.000595  0.22612  0.48839  3.1599  ...   64.846  5.6287  4.4581   b'0'\n",
                     "3  0.024526  0.43236  0.27546  1.7833  ...   98.783  3.6950  3.4844   b'0'\n",
                     "4  0.188290  0.41504  0.34231  1.9279  ...  100.540  3.6303  4.6375   b'0'\n",
                     "\n",
                     "[5 rows x 65 columns]"
                  ]
               },
               "execution_count": 6,
               "metadata": {},
               "output_type": "execute_result"
            }
         ],
         "source": [
            "X.head()"
         ]
      },
      {
         "cell_type": "code",
         "execution_count": 7,
         "metadata": {
            "editable": true,
            "pycharm": {
               "name": "#%%\n"
            },
            "slideshow": {
               "slide_type": ""
            },
            "tags": []
         },
         "outputs": [
            {
               "data": {
                  "text/plain": [
                     "Attr1     float64\n",
                     "Attr2     float64\n",
                     "Attr3     float64\n",
                     "Attr4     float64\n",
                     "Attr5     float64\n",
                     "           ...   \n",
                     "Attr61    float64\n",
                     "Attr62    float64\n",
                     "Attr63    float64\n",
                     "Attr64    float64\n",
                     "class      object\n",
                     "Length: 65, dtype: object"
                  ]
               },
               "execution_count": 7,
               "metadata": {},
               "output_type": "execute_result"
            }
         ],
         "source": [
            "X.dtypes"
         ]
      },
      {
         "cell_type": "code",
         "execution_count": 8,
         "metadata": {
            "pycharm": {
               "name": "#%%\n"
            }
         },
         "outputs": [
            {
               "data": {
                  "text/html": [
                     "<div>\n",
                     "<style scoped>\n",
                     "    .dataframe tbody tr th:only-of-type {\n",
                     "        vertical-align: middle;\n",
                     "    }\n",
                     "\n",
                     "    .dataframe tbody tr th {\n",
                     "        vertical-align: top;\n",
                     "    }\n",
                     "\n",
                     "    .dataframe thead th {\n",
                     "        text-align: right;\n",
                     "    }\n",
                     "</style>\n",
                     "<table border=\"1\" class=\"dataframe\">\n",
                     "  <thead>\n",
                     "    <tr style=\"text-align: right;\">\n",
                     "      <th></th>\n",
                     "      <th>Attr1</th>\n",
                     "      <th>Attr2</th>\n",
                     "      <th>Attr3</th>\n",
                     "      <th>Attr4</th>\n",
                     "      <th>Attr5</th>\n",
                     "      <th>Attr6</th>\n",
                     "      <th>Attr7</th>\n",
                     "      <th>Attr8</th>\n",
                     "      <th>Attr9</th>\n",
                     "      <th>Attr10</th>\n",
                     "      <th>Attr11</th>\n",
                     "      <th>Attr12</th>\n",
                     "      <th>Attr13</th>\n",
                     "      <th>Attr14</th>\n",
                     "      <th>Attr15</th>\n",
                     "      <th>Attr16</th>\n",
                     "      <th>Attr17</th>\n",
                     "      <th>Attr18</th>\n",
                     "      <th>Attr19</th>\n",
                     "      <th>Attr20</th>\n",
                     "      <th>Attr21</th>\n",
                     "      <th>Attr22</th>\n",
                     "      <th>Attr23</th>\n",
                     "      <th>Attr24</th>\n",
                     "      <th>Attr25</th>\n",
                     "      <th>Attr26</th>\n",
                     "      <th>Attr27</th>\n",
                     "      <th>Attr28</th>\n",
                     "      <th>Attr29</th>\n",
                     "      <th>Attr30</th>\n",
                     "      <th>Attr31</th>\n",
                     "      <th>Attr32</th>\n",
                     "      <th>Attr33</th>\n",
                     "      <th>Attr34</th>\n",
                     "      <th>Attr35</th>\n",
                     "      <th>Attr36</th>\n",
                     "      <th>Attr37</th>\n",
                     "      <th>Attr38</th>\n",
                     "      <th>Attr39</th>\n",
                     "      <th>Attr40</th>\n",
                     "      <th>Attr41</th>\n",
                     "      <th>Attr42</th>\n",
                     "      <th>Attr43</th>\n",
                     "      <th>Attr44</th>\n",
                     "      <th>Attr45</th>\n",
                     "      <th>Attr46</th>\n",
                     "      <th>Attr47</th>\n",
                     "      <th>Attr48</th>\n",
                     "      <th>Attr49</th>\n",
                     "      <th>Attr50</th>\n",
                     "      <th>Attr51</th>\n",
                     "      <th>Attr52</th>\n",
                     "      <th>Attr53</th>\n",
                     "      <th>Attr54</th>\n",
                     "      <th>Attr55</th>\n",
                     "      <th>Attr56</th>\n",
                     "      <th>Attr57</th>\n",
                     "      <th>Attr58</th>\n",
                     "      <th>Attr59</th>\n",
                     "      <th>Attr60</th>\n",
                     "      <th>Attr61</th>\n",
                     "      <th>Attr62</th>\n",
                     "      <th>Attr63</th>\n",
                     "      <th>Attr64</th>\n",
                     "    </tr>\n",
                     "  </thead>\n",
                     "  <tbody>\n",
                     "    <tr>\n",
                     "      <th>count</th>\n",
                     "      <td>10503.000000</td>\n",
                     "      <td>10503.000000</td>\n",
                     "      <td>10503.000000</td>\n",
                     "      <td>10485.000000</td>\n",
                     "      <td>1.047800e+04</td>\n",
                     "      <td>10503.000000</td>\n",
                     "      <td>10503.000000</td>\n",
                     "      <td>10489.000000</td>\n",
                     "      <td>10500.000000</td>\n",
                     "      <td>10503.000000</td>\n",
                     "      <td>10503.000000</td>\n",
                     "      <td>10485.000000</td>\n",
                     "      <td>10460.000000</td>\n",
                     "      <td>10503.000000</td>\n",
                     "      <td>1.049500e+04</td>\n",
                     "      <td>10489.000000</td>\n",
                     "      <td>10489.000000</td>\n",
                     "      <td>10503.000000</td>\n",
                     "      <td>10460.000000</td>\n",
                     "      <td>10460.000000</td>\n",
                     "      <td>9696.000000</td>\n",
                     "      <td>10503.000000</td>\n",
                     "      <td>10460.000000</td>\n",
                     "      <td>10276.000000</td>\n",
                     "      <td>10503.000000</td>\n",
                     "      <td>10489.000000</td>\n",
                     "      <td>9.788000e+03</td>\n",
                     "      <td>10275.000000</td>\n",
                     "      <td>10503.000000</td>\n",
                     "      <td>10460.000000</td>\n",
                     "      <td>10460.000000</td>\n",
                     "      <td>1.040200e+04</td>\n",
                     "      <td>10485.000000</td>\n",
                     "      <td>10489.000000</td>\n",
                     "      <td>10503.000000</td>\n",
                     "      <td>10503.000000</td>\n",
                     "      <td>5767.000000</td>\n",
                     "      <td>10503.000000</td>\n",
                     "      <td>10460.000000</td>\n",
                     "      <td>10485.000000</td>\n",
                     "      <td>10301.000000</td>\n",
                     "      <td>10460.000000</td>\n",
                     "      <td>10460.000000</td>\n",
                     "      <td>10460.000000</td>\n",
                     "      <td>9912.000000</td>\n",
                     "      <td>10485.000000</td>\n",
                     "      <td>1.041700e+04</td>\n",
                     "      <td>10503.000000</td>\n",
                     "      <td>10460.000000</td>\n",
                     "      <td>10489.000000</td>\n",
                     "      <td>10503.000000</td>\n",
                     "      <td>10417.000000</td>\n",
                     "      <td>10275.000000</td>\n",
                     "      <td>10275.000000</td>\n",
                     "      <td>1.050300e+04</td>\n",
                     "      <td>10460.000000</td>\n",
                     "      <td>10503.000000</td>\n",
                     "      <td>10474.000000</td>\n",
                     "      <td>10503.000000</td>\n",
                     "      <td>9.911000e+03</td>\n",
                     "      <td>10486.000000</td>\n",
                     "      <td>1.046000e+04</td>\n",
                     "      <td>10485.000000</td>\n",
                     "      <td>10275.000000</td>\n",
                     "    </tr>\n",
                     "    <tr>\n",
                     "      <th>mean</th>\n",
                     "      <td>0.052844</td>\n",
                     "      <td>0.619911</td>\n",
                     "      <td>0.095490</td>\n",
                     "      <td>9.980499</td>\n",
                     "      <td>-1.347662e+03</td>\n",
                     "      <td>-0.121159</td>\n",
                     "      <td>0.065624</td>\n",
                     "      <td>19.140113</td>\n",
                     "      <td>1.819254</td>\n",
                     "      <td>0.366093</td>\n",
                     "      <td>0.086764</td>\n",
                     "      <td>2.411266</td>\n",
                     "      <td>0.376563</td>\n",
                     "      <td>0.065634</td>\n",
                     "      <td>3.004332e+03</td>\n",
                     "      <td>2.729654</td>\n",
                     "      <td>20.511539</td>\n",
                     "      <td>0.070739</td>\n",
                     "      <td>-0.170778</td>\n",
                     "      <td>68.448531</td>\n",
                     "      <td>4.670725</td>\n",
                     "      <td>0.075676</td>\n",
                     "      <td>-0.176466</td>\n",
                     "      <td>0.211936</td>\n",
                     "      <td>0.196153</td>\n",
                     "      <td>2.580730</td>\n",
                     "      <td>1.185945e+03</td>\n",
                     "      <td>6.092884</td>\n",
                     "      <td>3.921179</td>\n",
                     "      <td>0.459346</td>\n",
                     "      <td>-0.177084</td>\n",
                     "      <td>1.171670e+03</td>\n",
                     "      <td>8.419887</td>\n",
                     "      <td>5.398356</td>\n",
                     "      <td>0.071075</td>\n",
                     "      <td>1.981250</td>\n",
                     "      <td>102.697692</td>\n",
                     "      <td>0.465510</td>\n",
                     "      <td>-0.076355</td>\n",
                     "      <td>2.381026</td>\n",
                     "      <td>28.707178</td>\n",
                     "      <td>-0.141671</td>\n",
                     "      <td>195.389286</td>\n",
                     "      <td>126.940260</td>\n",
                     "      <td>17.451297</td>\n",
                     "      <td>8.978029</td>\n",
                     "      <td>5.424888e+02</td>\n",
                     "      <td>0.004834</td>\n",
                     "      <td>-0.217844</td>\n",
                     "      <td>8.686024</td>\n",
                     "      <td>0.497135</td>\n",
                     "      <td>11.244158</td>\n",
                     "      <td>5.725829</td>\n",
                     "      <td>6.708568</td>\n",
                     "      <td>6.638549e+03</td>\n",
                     "      <td>-0.530082</td>\n",
                     "      <td>-0.014817</td>\n",
                     "      <td>3.848794</td>\n",
                     "      <td>1.429319</td>\n",
                     "      <td>5.713363e+02</td>\n",
                     "      <td>13.935361</td>\n",
                     "      <td>1.355370e+02</td>\n",
                     "      <td>9.095149</td>\n",
                     "      <td>35.766800</td>\n",
                     "    </tr>\n",
                     "    <tr>\n",
                     "      <th>std</th>\n",
                     "      <td>0.647797</td>\n",
                     "      <td>6.427041</td>\n",
                     "      <td>6.420056</td>\n",
                     "      <td>523.691951</td>\n",
                     "      <td>1.185806e+05</td>\n",
                     "      <td>6.970625</td>\n",
                     "      <td>0.651152</td>\n",
                     "      <td>717.756745</td>\n",
                     "      <td>7.581659</td>\n",
                     "      <td>6.428603</td>\n",
                     "      <td>0.655407</td>\n",
                     "      <td>111.459642</td>\n",
                     "      <td>49.675550</td>\n",
                     "      <td>0.651151</td>\n",
                     "      <td>1.091981e+05</td>\n",
                     "      <td>110.233475</td>\n",
                     "      <td>721.812766</td>\n",
                     "      <td>0.835328</td>\n",
                     "      <td>11.210201</td>\n",
                     "      <td>1083.699904</td>\n",
                     "      <td>305.897238</td>\n",
                     "      <td>0.581734</td>\n",
                     "      <td>11.149274</td>\n",
                     "      <td>2.093845</td>\n",
                     "      <td>6.742161</td>\n",
                     "      <td>108.823993</td>\n",
                     "      <td>3.469123e+04</td>\n",
                     "      <td>94.713753</td>\n",
                     "      <td>0.840528</td>\n",
                     "      <td>71.755042</td>\n",
                     "      <td>11.157003</td>\n",
                     "      <td>6.841270e+04</td>\n",
                     "      <td>37.696764</td>\n",
                     "      <td>69.035263</td>\n",
                     "      <td>0.572124</td>\n",
                     "      <td>2.630705</td>\n",
                     "      <td>2469.447679</td>\n",
                     "      <td>6.425362</td>\n",
                     "      <td>8.079334</td>\n",
                     "      <td>37.819839</td>\n",
                     "      <td>2845.290346</td>\n",
                     "      <td>10.787555</td>\n",
                     "      <td>3303.309554</td>\n",
                     "      <td>2766.505503</td>\n",
                     "      <td>1720.342176</td>\n",
                     "      <td>523.565601</td>\n",
                     "      <td>3.126416e+04</td>\n",
                     "      <td>0.629770</td>\n",
                     "      <td>11.910935</td>\n",
                     "      <td>522.528325</td>\n",
                     "      <td>6.420885</td>\n",
                     "      <td>851.867915</td>\n",
                     "      <td>89.708042</td>\n",
                     "      <td>93.511530</td>\n",
                     "      <td>5.989196e+04</td>\n",
                     "      <td>55.978608</td>\n",
                     "      <td>18.684047</td>\n",
                     "      <td>190.201224</td>\n",
                     "      <td>77.273270</td>\n",
                     "      <td>3.715967e+04</td>\n",
                     "      <td>83.704103</td>\n",
                     "      <td>2.599116e+04</td>\n",
                     "      <td>31.419096</td>\n",
                     "      <td>428.298315</td>\n",
                     "    </tr>\n",
                     "    <tr>\n",
                     "      <th>min</th>\n",
                     "      <td>-17.692000</td>\n",
                     "      <td>0.000000</td>\n",
                     "      <td>-479.730000</td>\n",
                     "      <td>0.002080</td>\n",
                     "      <td>-1.190300e+07</td>\n",
                     "      <td>-508.120000</td>\n",
                     "      <td>-17.692000</td>\n",
                     "      <td>-2.081800</td>\n",
                     "      <td>-1.215700</td>\n",
                     "      <td>-479.730000</td>\n",
                     "      <td>-17.692000</td>\n",
                     "      <td>-1543.800000</td>\n",
                     "      <td>-631.710000</td>\n",
                     "      <td>-17.692000</td>\n",
                     "      <td>-2.321800e+06</td>\n",
                     "      <td>-204.300000</td>\n",
                     "      <td>-0.043411</td>\n",
                     "      <td>-17.692000</td>\n",
                     "      <td>-771.650000</td>\n",
                     "      <td>-0.001439</td>\n",
                     "      <td>-1.107500</td>\n",
                     "      <td>-17.692000</td>\n",
                     "      <td>-771.650000</td>\n",
                     "      <td>-60.742000</td>\n",
                     "      <td>-500.750000</td>\n",
                     "      <td>-204.300000</td>\n",
                     "      <td>-1.901300e+05</td>\n",
                     "      <td>-690.400000</td>\n",
                     "      <td>-0.358530</td>\n",
                     "      <td>-6351.700000</td>\n",
                     "      <td>-771.390000</td>\n",
                     "      <td>-9.295600e+03</td>\n",
                     "      <td>-1.921900</td>\n",
                     "      <td>-1696.000000</td>\n",
                     "      <td>-17.073000</td>\n",
                     "      <td>-0.000084</td>\n",
                     "      <td>-2.200900</td>\n",
                     "      <td>-479.730000</td>\n",
                     "      <td>-551.110000</td>\n",
                     "      <td>-7.081900</td>\n",
                     "      <td>-667.730000</td>\n",
                     "      <td>-765.800000</td>\n",
                     "      <td>-25113.000000</td>\n",
                     "      <td>-25113.000000</td>\n",
                     "      <td>-74385.000000</td>\n",
                     "      <td>-6.469200</td>\n",
                     "      <td>-1.730300e+01</td>\n",
                     "      <td>-17.692000</td>\n",
                     "      <td>-905.750000</td>\n",
                     "      <td>0.002080</td>\n",
                     "      <td>0.000000</td>\n",
                     "      <td>-25.467000</td>\n",
                     "      <td>-869.040000</td>\n",
                     "      <td>-706.490000</td>\n",
                     "      <td>-7.513800e+05</td>\n",
                     "      <td>-5691.700000</td>\n",
                     "      <td>-1667.300000</td>\n",
                     "      <td>-198.690000</td>\n",
                     "      <td>-172.070000</td>\n",
                     "      <td>0.000000e+00</td>\n",
                     "      <td>-6.590300</td>\n",
                     "      <td>-2.336500e+06</td>\n",
                     "      <td>-0.000156</td>\n",
                     "      <td>-0.000102</td>\n",
                     "    </tr>\n",
                     "    <tr>\n",
                     "      <th>25%</th>\n",
                     "      <td>0.000686</td>\n",
                     "      <td>0.253955</td>\n",
                     "      <td>0.017461</td>\n",
                     "      <td>1.040100</td>\n",
                     "      <td>-5.207075e+01</td>\n",
                     "      <td>0.000000</td>\n",
                     "      <td>0.002118</td>\n",
                     "      <td>0.431270</td>\n",
                     "      <td>1.011275</td>\n",
                     "      <td>0.297340</td>\n",
                     "      <td>0.009809</td>\n",
                     "      <td>0.006183</td>\n",
                     "      <td>0.020740</td>\n",
                     "      <td>0.002131</td>\n",
                     "      <td>1.865950e+02</td>\n",
                     "      <td>0.060302</td>\n",
                     "      <td>1.449200</td>\n",
                     "      <td>0.002131</td>\n",
                     "      <td>0.001648</td>\n",
                     "      <td>14.253750</td>\n",
                     "      <td>0.796673</td>\n",
                     "      <td>0.000000</td>\n",
                     "      <td>0.000556</td>\n",
                     "      <td>0.014938</td>\n",
                     "      <td>0.135695</td>\n",
                     "      <td>0.055067</td>\n",
                     "      <td>0.000000e+00</td>\n",
                     "      <td>0.027178</td>\n",
                     "      <td>3.393200</td>\n",
                     "      <td>0.073850</td>\n",
                     "      <td>0.004012</td>\n",
                     "      <td>4.471900e+01</td>\n",
                     "      <td>2.785900</td>\n",
                     "      <td>0.367460</td>\n",
                     "      <td>0.001730</td>\n",
                     "      <td>1.043500</td>\n",
                     "      <td>1.038600</td>\n",
                     "      <td>0.426810</td>\n",
                     "      <td>0.001557</td>\n",
                     "      <td>0.053666</td>\n",
                     "      <td>0.022026</td>\n",
                     "      <td>0.000000</td>\n",
                     "      <td>65.627250</td>\n",
                     "      <td>34.214750</td>\n",
                     "      <td>0.006157</td>\n",
                     "      <td>0.602830</td>\n",
                     "      <td>1.494100e+01</td>\n",
                     "      <td>-0.048988</td>\n",
                     "      <td>-0.036186</td>\n",
                     "      <td>0.749370</td>\n",
                     "      <td>0.177200</td>\n",
                     "      <td>0.122470</td>\n",
                     "      <td>0.667285</td>\n",
                     "      <td>0.950435</td>\n",
                     "      <td>1.462100e+01</td>\n",
                     "      <td>0.005137</td>\n",
                     "      <td>0.006796</td>\n",
                     "      <td>0.875560</td>\n",
                     "      <td>0.000000</td>\n",
                     "      <td>5.533150e+00</td>\n",
                     "      <td>4.486075</td>\n",
                     "      <td>4.073700e+01</td>\n",
                     "      <td>3.062800</td>\n",
                     "      <td>2.023350</td>\n",
                     "    </tr>\n",
                     "    <tr>\n",
                     "      <th>50%</th>\n",
                     "      <td>0.043034</td>\n",
                     "      <td>0.464140</td>\n",
                     "      <td>0.198560</td>\n",
                     "      <td>1.605600</td>\n",
                     "      <td>1.579300e+00</td>\n",
                     "      <td>0.000000</td>\n",
                     "      <td>0.050945</td>\n",
                     "      <td>1.111000</td>\n",
                     "      <td>1.199000</td>\n",
                     "      <td>0.515500</td>\n",
                     "      <td>0.068104</td>\n",
                     "      <td>0.155880</td>\n",
                     "      <td>0.066433</td>\n",
                     "      <td>0.050953</td>\n",
                     "      <td>8.056900e+02</td>\n",
                     "      <td>0.235140</td>\n",
                     "      <td>2.152500</td>\n",
                     "      <td>0.050953</td>\n",
                     "      <td>0.032117</td>\n",
                     "      <td>34.432500</td>\n",
                     "      <td>0.955035</td>\n",
                     "      <td>0.054633</td>\n",
                     "      <td>0.027129</td>\n",
                     "      <td>0.158370</td>\n",
                     "      <td>0.377690</td>\n",
                     "      <td>0.213260</td>\n",
                     "      <td>1.066900e+00</td>\n",
                     "      <td>0.459930</td>\n",
                     "      <td>3.932100</td>\n",
                     "      <td>0.216525</td>\n",
                     "      <td>0.039689</td>\n",
                     "      <td>7.752200e+01</td>\n",
                     "      <td>4.680900</td>\n",
                     "      <td>2.051600</td>\n",
                     "      <td>0.053054</td>\n",
                     "      <td>1.586900</td>\n",
                     "      <td>2.727300</td>\n",
                     "      <td>0.628750</td>\n",
                     "      <td>0.034080</td>\n",
                     "      <td>0.195900</td>\n",
                     "      <td>0.079126</td>\n",
                     "      <td>0.034909</td>\n",
                     "      <td>99.131000</td>\n",
                     "      <td>54.422000</td>\n",
                     "      <td>0.261265</td>\n",
                     "      <td>1.060600</td>\n",
                     "      <td>3.710400e+01</td>\n",
                     "      <td>0.009653</td>\n",
                     "      <td>0.006034</td>\n",
                     "      <td>1.231200</td>\n",
                     "      <td>0.326570</td>\n",
                     "      <td>0.212000</td>\n",
                     "      <td>1.201800</td>\n",
                     "      <td>1.373500</td>\n",
                     "      <td>8.822900e+02</td>\n",
                     "      <td>0.051765</td>\n",
                     "      <td>0.106880</td>\n",
                     "      <td>0.953060</td>\n",
                     "      <td>0.002976</td>\n",
                     "      <td>9.952100e+00</td>\n",
                     "      <td>6.677300</td>\n",
                     "      <td>7.066400e+01</td>\n",
                     "      <td>5.139200</td>\n",
                     "      <td>4.059300</td>\n",
                     "    </tr>\n",
                     "    <tr>\n",
                     "      <th>75%</th>\n",
                     "      <td>0.123805</td>\n",
                     "      <td>0.689330</td>\n",
                     "      <td>0.419545</td>\n",
                     "      <td>2.959500</td>\n",
                     "      <td>5.608400e+01</td>\n",
                     "      <td>0.072584</td>\n",
                     "      <td>0.142275</td>\n",
                     "      <td>2.857100</td>\n",
                     "      <td>2.059100</td>\n",
                     "      <td>0.725635</td>\n",
                     "      <td>0.161090</td>\n",
                     "      <td>0.570340</td>\n",
                     "      <td>0.133612</td>\n",
                     "      <td>0.142275</td>\n",
                     "      <td>2.187100e+03</td>\n",
                     "      <td>0.643030</td>\n",
                     "      <td>3.924300</td>\n",
                     "      <td>0.142285</td>\n",
                     "      <td>0.087583</td>\n",
                     "      <td>63.698250</td>\n",
                     "      <td>1.105650</td>\n",
                     "      <td>0.145890</td>\n",
                     "      <td>0.075935</td>\n",
                     "      <td>0.373673</td>\n",
                     "      <td>0.614100</td>\n",
                     "      <td>0.589080</td>\n",
                     "      <td>4.814300e+00</td>\n",
                     "      <td>1.564850</td>\n",
                     "      <td>4.449950</td>\n",
                     "      <td>0.426240</td>\n",
                     "      <td>0.099040</td>\n",
                     "      <td>1.291850e+02</td>\n",
                     "      <td>8.081500</td>\n",
                     "      <td>4.768600</td>\n",
                     "      <td>0.145730</td>\n",
                     "      <td>2.380750</td>\n",
                     "      <td>10.741500</td>\n",
                     "      <td>0.788415</td>\n",
                     "      <td>0.090918</td>\n",
                     "      <td>0.742150</td>\n",
                     "      <td>0.195200</td>\n",
                     "      <td>0.091339</td>\n",
                     "      <td>141.482500</td>\n",
                     "      <td>80.831500</td>\n",
                     "      <td>0.949803</td>\n",
                     "      <td>2.042600</td>\n",
                     "      <td>6.982300e+01</td>\n",
                     "      <td>0.100710</td>\n",
                     "      <td>0.059706</td>\n",
                     "      <td>2.306300</td>\n",
                     "      <td>0.525190</td>\n",
                     "      <td>0.353180</td>\n",
                     "      <td>2.268900</td>\n",
                     "      <td>2.437150</td>\n",
                     "      <td>4.348900e+03</td>\n",
                     "      <td>0.130010</td>\n",
                     "      <td>0.271310</td>\n",
                     "      <td>0.995927</td>\n",
                     "      <td>0.240320</td>\n",
                     "      <td>2.093600e+01</td>\n",
                     "      <td>10.587500</td>\n",
                     "      <td>1.182200e+02</td>\n",
                     "      <td>8.882600</td>\n",
                     "      <td>9.682750</td>\n",
                     "    </tr>\n",
                     "    <tr>\n",
                     "      <th>max</th>\n",
                     "      <td>52.652000</td>\n",
                     "      <td>480.730000</td>\n",
                     "      <td>17.708000</td>\n",
                     "      <td>53433.000000</td>\n",
                     "      <td>6.854400e+05</td>\n",
                     "      <td>45.533000</td>\n",
                     "      <td>52.652000</td>\n",
                     "      <td>53432.000000</td>\n",
                     "      <td>740.440000</td>\n",
                     "      <td>11.837000</td>\n",
                     "      <td>52.652000</td>\n",
                     "      <td>8259.400000</td>\n",
                     "      <td>4972.000000</td>\n",
                     "      <td>52.652000</td>\n",
                     "      <td>1.023600e+07</td>\n",
                     "      <td>8259.400000</td>\n",
                     "      <td>53433.000000</td>\n",
                     "      <td>53.689000</td>\n",
                     "      <td>123.940000</td>\n",
                     "      <td>91600.000000</td>\n",
                     "      <td>29907.000000</td>\n",
                     "      <td>47.597000</td>\n",
                     "      <td>123.940000</td>\n",
                     "      <td>179.920000</td>\n",
                     "      <td>8.834500</td>\n",
                     "      <td>8262.300000</td>\n",
                     "      <td>2.723000e+06</td>\n",
                     "      <td>6233.300000</td>\n",
                     "      <td>9.619900</td>\n",
                     "      <td>2940.500000</td>\n",
                     "      <td>60.430000</td>\n",
                     "      <td>6.674200e+06</td>\n",
                     "      <td>2787.900000</td>\n",
                     "      <td>6348.500000</td>\n",
                     "      <td>47.597000</td>\n",
                     "      <td>169.500000</td>\n",
                     "      <td>136090.000000</td>\n",
                     "      <td>13.656000</td>\n",
                     "      <td>293.150000</td>\n",
                     "      <td>2883.000000</td>\n",
                     "      <td>288770.000000</td>\n",
                     "      <td>165.950000</td>\n",
                     "      <td>254030.000000</td>\n",
                     "      <td>254030.000000</td>\n",
                     "      <td>113280.000000</td>\n",
                     "      <td>53433.000000</td>\n",
                     "      <td>2.591100e+06</td>\n",
                     "      <td>47.597000</td>\n",
                     "      <td>178.890000</td>\n",
                     "      <td>53433.000000</td>\n",
                     "      <td>480.730000</td>\n",
                     "      <td>84827.000000</td>\n",
                     "      <td>6234.300000</td>\n",
                     "      <td>6234.300000</td>\n",
                     "      <td>3.380500e+06</td>\n",
                     "      <td>293.150000</td>\n",
                     "      <td>552.640000</td>\n",
                     "      <td>18118.000000</td>\n",
                     "      <td>7617.300000</td>\n",
                     "      <td>3.660200e+06</td>\n",
                     "      <td>4470.400000</td>\n",
                     "      <td>1.073500e+06</td>\n",
                     "      <td>1974.500000</td>\n",
                     "      <td>21499.000000</td>\n",
                     "    </tr>\n",
                     "  </tbody>\n",
                     "</table>\n",
                     "</div>"
                  ],
                  "text/plain": [
                     "              Attr1         Attr2  ...        Attr63        Attr64\n",
                     "count  10503.000000  10503.000000  ...  10485.000000  10275.000000\n",
                     "mean       0.052844      0.619911  ...      9.095149     35.766800\n",
                     "std        0.647797      6.427041  ...     31.419096    428.298315\n",
                     "min      -17.692000      0.000000  ...     -0.000156     -0.000102\n",
                     "25%        0.000686      0.253955  ...      3.062800      2.023350\n",
                     "50%        0.043034      0.464140  ...      5.139200      4.059300\n",
                     "75%        0.123805      0.689330  ...      8.882600      9.682750\n",
                     "max       52.652000    480.730000  ...   1974.500000  21499.000000\n",
                     "\n",
                     "[8 rows x 64 columns]"
                  ]
               },
               "execution_count": 8,
               "metadata": {},
               "output_type": "execute_result"
            }
         ],
         "source": [
            "X.describe()"
         ]
      },
      {
         "cell_type": "code",
         "execution_count": 9,
         "metadata": {
            "editable": true,
            "slideshow": {
               "slide_type": ""
            },
            "tags": []
         },
         "outputs": [
            {
               "data": {
                  "text/plain": [
                     "['net profit / total assets',\n",
                     " 'total liabilities / total assets',\n",
                     " 'working capital / total assets',\n",
                     " 'current assets / short-term liabilities',\n",
                     " '[(cash + short-term securities + receivables - short-term liabilities) / (operating expenses - depreciation)] * 365',\n",
                     " 'retained earnings / total assets',\n",
                     " 'EBIT / total assets',\n",
                     " 'book value of equity / total liabilities',\n",
                     " 'sales / total assets',\n",
                     " 'equity / total assets',\n",
                     " '(gross profit + extraordinary items + financial expenses) / total assets',\n",
                     " 'gross profit / short-term liabilities',\n",
                     " '(gross profit + depreciation) / sales',\n",
                     " '(gross profit + interest) / total assets',\n",
                     " '(total liabilities * 365) / (gross profit + depreciation)',\n",
                     " '(gross profit + depreciation) / total liabilities',\n",
                     " 'total assets / total liabilities',\n",
                     " 'gross profit / total assets',\n",
                     " 'gross profit / sales',\n",
                     " '(inventory * 365) / sales',\n",
                     " 'sales (n) / sales (n-1)',\n",
                     " 'profit on operating activities / total assets',\n",
                     " 'net profit / sales',\n",
                     " 'gross profit (in 3 years) / total assets',\n",
                     " '(equity - share capital) / total assets',\n",
                     " '(net profit + depreciation) / total liabilities',\n",
                     " 'profit on operating activities / financial expenses',\n",
                     " 'working capital / fixed assets',\n",
                     " 'logarithm of total assets',\n",
                     " '(total liabilities - cash) / sales',\n",
                     " '(gross profit + interest) / sales',\n",
                     " '(current liabilities * 365) / cost of products sold',\n",
                     " 'operating expenses / short-term liabilities',\n",
                     " 'operating expenses / total liabilities',\n",
                     " 'profit on sales / total assets',\n",
                     " 'total sales / total assets',\n",
                     " 'constant capital / total assets',\n",
                     " 'profit on sales / sales',\n",
                     " '(current assets - inventory - receivables) / short-term liabilities',\n",
                     " 'total liabilities / ((profit on operating activities + depreciation) * (12/365))',\n",
                     " 'profit on operating activities / sales',\n",
                     " 'rotation receivables + inventory turnover in days',\n",
                     " '(receivables * 365) / sales',\n",
                     " 'net profit / inventory',\n",
                     " '(current assets - inventory) / short-term liabilities',\n",
                     " '(inventory * 365) / cost of products sold',\n",
                     " 'EBITDA (profit on operating activities - depreciation) / total assets',\n",
                     " 'EBITDA (profit on operating activities - depreciation) / sales',\n",
                     " 'current assets / total liabilities',\n",
                     " 'short-term liabilities / total assets',\n",
                     " '(short-term liabilities * 365) / cost of products sold)',\n",
                     " 'equity / fixed assets',\n",
                     " 'constant capital / fixed assets',\n",
                     " 'working capital',\n",
                     " '(sales - cost of products sold) / sales',\n",
                     " '(current assets - inventory - short-term liabilities) / (sales - gross profit - depreciation)',\n",
                     " 'total costs / total sales',\n",
                     " 'long-term liabilities / equity',\n",
                     " 'sales / inventory',\n",
                     " 'sales / receivables',\n",
                     " '(short-term liabilities * 365) / sales',\n",
                     " 'sales / short-term liabilities',\n",
                     " 'sales / fixed assets']"
                  ]
               },
               "execution_count": 9,
               "metadata": {},
               "output_type": "execute_result"
            }
         ],
         "source": [
            "feature_names"
         ]
      },
      {
         "cell_type": "markdown",
         "metadata": {
            "editable": true,
            "pycharm": {
               "name": "#%% md\n"
            },
            "slideshow": {
               "slide_type": ""
            },
            "tags": []
         },
         "source": [
            "DataFrame zawiera 64 atrybuty numeryczne o zróżnicowanych rozkładach wartości oraz kolumnę `\"class\"` typu `bytes` z klasami 0 i 1. Wiemy, że mamy do czynienia z klasyfikacją binarną - klasa 0 to brak bankructwa, klasa 1 to bankructwo w ciągu najbliższych 3 lat. Przyjrzyjmy się dokładniej naszym danym."
         ]
      },
      {
         "cell_type": "markdown",
         "metadata": {
            "editable": true,
            "slideshow": {
               "slide_type": ""
            },
            "tags": [
               "ex"
            ]
         },
         "source": [
            "### Zadanie 1 (0.5 punktu)"
         ]
      },
      {
         "cell_type": "markdown",
         "metadata": {
            "editable": true,
            "slideshow": {
               "slide_type": ""
            },
            "tags": [
               "ex"
            ]
         },
         "source": [
            "1. Wyodrębnij klasy jako osobną zmienną typu `pd.Series`, usuwając je z macierzy `X`. Przekonwertuj je na liczby całkowite.\n",
            "2. Narysuj wykres słupkowy częstotliwości obu klas w całym zbiorze. Upewnij się, że na osi X są numery lub nazwy klas, a oś Y ma wartości w procentach.\n",
            "\n",
            "**Uwaga:** sugerowane jest użycie `if` w podpunkcie 1, żeby można było tę komórkę bezpiecznie odpalić kilka razy."
         ]
      },
      {
         "cell_type": "code",
         "execution_count": 10,
         "metadata": {
            "editable": true,
            "pycharm": {
               "name": "#%%\n"
            },
            "slideshow": {
               "slide_type": ""
            },
            "tags": [
               "ex"
            ]
         },
         "outputs": [
            {
               "data": {
                  "image/png": "[encoded data removed]",
                  "text/plain": [
                     "<Figure size 640x480 with 1 Axes>"
                  ]
               },
               "metadata": {},
               "output_type": "display_data"
            }
         ],
         "source": [
            "if 'class' in X.columns:\n",
            "    y = X.pop('class')\n",
            "\n",
            "y = y.astype(int)\n",
            "\n",
            "ax = y.value_counts().plot(kind='bar', color=[\"#e87272\", \"#afdebc\"])\n",
            "for container in ax.containers:\n",
            "    ax.bar_label(container)\n",
            "\n",
            "ax.set_title(\"Class frequencies\")\n",
            "ax.set_xlabel(\"Class\")\n",
            "ax.set_ylabel(\"Occurrences\")    \n",
            "ax.set_xticklabels([\"No\", \"Yes\"], rotation=0)\n",
            "plt.show()"
         ]
      },
      {
         "cell_type": "code",
         "execution_count": 11,
         "metadata": {
            "editable": true,
            "slideshow": {
               "slide_type": ""
            },
            "tags": [
               "ex"
            ]
         },
         "outputs": [
            {
               "name": "stdout",
               "output_type": "stream",
               "text": [
                  "Solution is correct!\n"
               ]
            }
         ],
         "source": [
            "assert \"class\" not in X.columns\n",
            "\n",
            "print(\"Solution is correct!\")"
         ]
      },
      {
         "cell_type": "markdown",
         "metadata": {
            "editable": true,
            "pycharm": {
               "name": "#%% md\n"
            },
            "slideshow": {
               "slide_type": ""
            },
            "tags": []
         },
         "source": [
            "Jak widać, klasa pozytywna jest w znacznej mniejszości, stanowi poniżej 5% zbioru. Taki problem nazywamy **klasyfikacją niezbalansowaną (imbalanced classification)**. Mamy tu **klasę dominującą (majority class)** oraz **klasę mniejszościową (minority class)**. Pechowo prawie zawsze interesuje nas ta druga, bo klasa większościowa nie niesie najczęściej żadnych interesujących informacji. Przykładowo, 99% badanych jest zdrowych, a 1% ma niewykryty nowotwór - z oczywistych przyczyn chcemy wykrywać właśnie sytuację rzadką (problem diagnozy jako klasyfikacji jest zasadniczo zawsze niezbalansowany). W dalszej części laboratorium poznamy szereg konsekwencji tego zjawiska i metody na radzenie sobie z nim.\n",
            "\n",
            "Mamy sporo cech w naszym zbiorze, wszystkie są numeryczne. Ciekawe, czy mają wartości brakujące, a jeśli tak, to ile? Policzymy to z pomocą biblioteki Pandas i metody `.isna()`. Domyślnie operuje ona na kolumnach, jak większość metod w w tej bibliotece. Sumę wartości per kolumna zwróci nam metoda `.sum()`. Jeżeli podzielimy to przez liczbę wierszy `len(X)`, to otrzymamy ułamek wartości brakujących w każdej kolumnie.\n",
            "\n",
            "Biblioteka Pandas potrafi też stworzyć wykres, z pomocą funkcji np. `.plot.hist()` czy `.plot.bar()`. Przyjmują one opcje formatowania wykresu z których korzysta biblioteka `matplotlib`."
         ]
      },
      {
         "cell_type": "code",
         "execution_count": 12,
         "metadata": {
            "editable": true,
            "pycharm": {
               "name": "#%%\n"
            },
            "slideshow": {
               "slide_type": ""
            },
            "tags": []
         },
         "outputs": [
            {
               "data": {
                  "text/plain": [
                     "<Axes: title={'center': 'Fraction of missing values per column'}>"
                  ]
               },
               "execution_count": 12,
               "metadata": {},
               "output_type": "execute_result"
            },
            {
               "data": {
                  "image/png": "[encoded data removed]",
                  "text/plain": [
                     "<Figure size 1500x500 with 1 Axes>"
                  ]
               },
               "metadata": {},
               "output_type": "display_data"
            }
         ],
         "source": [
            "na_perc = X.isna().sum() / len(X)\n",
            "na_perc.plot.bar(title=\"Fraction of missing values per column\", figsize=(15, 5))"
         ]
      },
      {
         "cell_type": "markdown",
         "metadata": {
            "editable": true,
            "pycharm": {
               "name": "#%% md\n"
            },
            "slideshow": {
               "slide_type": ""
            },
            "tags": [
               "ex"
            ]
         },
         "source": [
            "Jak widać, cecha 37 ma bardzo dużo wartości brakujących, podczas gdy pozostałe cechy mają raczej niewielką ich liczbę. W takiej sytuacji najlepiej usunąć tę cechę, a pozostałe wartości brakujące **uzupełnić** (co realizowaliśmy już poprzednio). Pamiętaj, że imputacji dokonuje się dopiero po podziale na zbiór treningowy i testowy! W przeciwnym wypadku wykorzystywalibyśmy dane ze zbioru testowego, co sztucznie zawyżyłoby wyniki. Jest to błąd metodologiczny - **wyciek danych (data leakage)**.\n",
            "\n",
            "Podział na zbiór treningowy i testowy to pierwszy moment, kiedy niezbalansowanie danych nam przeszkadza. Jeżeli zrobimy to czysto losowo, to jest spora szansa, że w zbiorze testowym będzie tylko klasa negatywna - w końcu jest jej aż >95%. Dlatego wykorzystuje się **próbkowanie ze stratyfikacją (stratified sampling)**, dzięki któremu proporcje klas w zbiorze przed podziałem oraz obu zbiorach po podziale są takie same."
         ]
      },
      {
         "cell_type": "markdown",
         "metadata": {
            "editable": true,
            "slideshow": {
               "slide_type": ""
            },
            "tags": [
               "ex"
            ]
         },
         "source": [
            "### Zadanie 2 (0.75 punktu)"
         ]
      },
      {
         "cell_type": "markdown",
         "metadata": {
            "editable": true,
            "slideshow": {
               "slide_type": ""
            },
            "tags": [
               "ex"
            ]
         },
         "source": [
            "1. Usuń kolumnę `\"Attr37\"` ze zbioru danych.\n",
            "2. Dokonaj podziału zbioru na treningowy i testowy w proporcjach 80%-20%, z przemieszaniem (`shuffle`), ze stratyfikacją, wykorzystując funkcję `train_test_split` ze Scikit-learn'a.\n",
            "3. Uzupełnij wartości brakujące średnią wartością cechy z pomocą klasy `SimpleImputer`.\n",
            "\n",
            "**Uwaga:**\n",
            "- jak wcześniej, sugerowane jest użycie `if` w podpunkcie 1,\n",
            "- pamiętaj o uwzględnieniu stałego ziarna `random_state=0`, aby wyniki były **reprodukowalne (reproducible)**,\n",
            "- `stratify` oczekuje wektora klas,\n",
            "- wartości do imputacji trzeba wyestymować na zbiorze treningowym (`.fit()`), a potem zastosować te nauczone wartości na obu podzbiorach (treningowym i testowym)."
         ]
      },
      {
         "cell_type": "code",
         "execution_count": 13,
         "metadata": {
            "editable": true,
            "pycharm": {
               "name": "#%%\n"
            },
            "slideshow": {
               "slide_type": ""
            },
            "tags": [
               "ex"
            ]
         },
         "outputs": [],
         "source": [
            "from sklearn.model_selection import train_test_split\n",
            "\n",
            "if 'Attr37' in X.columns:\n",
            "    X.drop('Attr37', axis=1, inplace=True)\n",
            "\n",
            "X_train, X_test, y_train, y_test = train_test_split(X, y, test_size=0.2, random_state=0, stratify=y, shuffle=True)"
         ]
      },
      {
         "cell_type": "code",
         "execution_count": 14,
         "metadata": {
            "tags": [
               "ex"
            ]
         },
         "outputs": [],
         "source": [
            "from sklearn.impute import SimpleImputer\n",
            "\n",
            "imputer = SimpleImputer(strategy='mean')\n",
            "\n",
            "X_train = imputer.fit_transform(X_train)\n",
            "X_test = imputer.transform(X_test)"
         ]
      },
      {
         "cell_type": "code",
         "execution_count": 15,
         "metadata": {
            "editable": true,
            "slideshow": {
               "slide_type": ""
            },
            "tags": [
               "ex"
            ]
         },
         "outputs": [
            {
               "name": "stdout",
               "output_type": "stream",
               "text": [
                  "Solution is correct!\n"
               ]
            }
         ],
         "source": [
            "import numpy as np\n",
            "\n",
            "assert \"Attr37\" not in X.columns\n",
            "assert not np.any(np.isnan(X_train))\n",
            "assert not np.any(np.isnan(X_test))\n",
            "\n",
            "print(\"Solution is correct!\")"
         ]
      },
      {
         "cell_type": "markdown",
         "metadata": {
            "editable": true,
            "pycharm": {
               "name": "#%% md\n"
            },
            "slideshow": {
               "slide_type": ""
            },
            "tags": []
         },
         "source": [
            "## Prosta klasyfikacja"
         ]
      },
      {
         "cell_type": "markdown",
         "metadata": {
            "editable": true,
            "pycharm": {
               "name": "#%% md\n"
            },
            "slideshow": {
               "slide_type": ""
            },
            "tags": []
         },
         "source": [
            "Zanim przejdzie się do modeli bardziej złożonych, trzeba najpierw wypróbować coś prostego, żeby mieć punkt odniesienia. Tworzy się dlatego **modele bazowe (baselines)**.\n",
            "\n",
            "W naszym przypadku będzie to **drzewo decyzyjne (decision tree)**. Jest to drzewo binarne z decyzjami if-else, prowadzącymi do klasyfikacji danego przykładu w liściu. Każdy podział w drzewie to pytanie postaci \"Czy wartość cechy X jest większa lub równa Y?\". Trening takiego drzewa to prosty algorytm zachłanny, bardzo przypomina budowę zwykłego drzewa binarnego. Ma on następujące kroki dla każdego węzła tego drzewa:\n",
            "1. Sprawdź po kolei wszystkie możliwe punkty podziału, czyli każdą (unikalną) wartość każdej cechy, po kolei.\n",
            "2. Dla każdego przypadku podziel zbiór na 2 części: niespełniający warunku (lewy potomek) i spełniający warunek (prawy potomek).\n",
            "3. Oblicz jakość podziału według wybranej funkcji jakości. Im lepiej warunek rozdziela klasy od siebie (imbardziej zunifikowane są węzły-dzieci), tym wyższa jakość podziału. Innymi słowy, chcemy, żeby do jednego dziecka trafiła jedna klasa, a do drugiego druga.\n",
            "4. Wybierz podział o najwyższej jakości.\n",
            "\n",
            "Taki algorytm wykonuje się rekurencyjnie, aż otrzymamy węzeł czysty (pure leaf), czyli taki, w którym są przykłady z tylko jednej klasy. Typowo wykorzystywaną funkcją jakości (kryterium podziału) jest entropia Shannona - im niższa entropia, tym bardziej jednolite są klasy w węźle (czyli wybieramy podział o najniższej entropii).\n",
            "\n",
            "Powyższe wytłumaczenie algorytmu jest oczywiście nieformalne i dość skrótowe. Doskonałe tłumaczenie, z interaktywnymi wizualizacjami, dostępne jest [tutaj](https://mlu-explain.github.io/decision-tree/). W formie filmów - [tutaj](https://www.youtube.com/watch?v=ZVR2Way4nwQ) oraz [tutaj](https://www.youtube.com/watch?v=_L39rN6gz7Y). Dla drzew do regresji - [ten film](https://www.youtube.com/watch?v=g9c66TUylZ4).\n",
            "\n",
            "<img src = https://miro.medium.com/max/1838/1*WyTsLwcAXivFCgNtF0OPqA.png width = \"642\" height = \"451\" >\n",
            "\n",
            "Warto zauważyć, że taka konstrukcja prowadzi zawsze do overfittingu. Otrzymanie liści czystych oznacza, że mamy 100% dokładności na zbiorze treningowym, czyli perfekcyjnie przeuczony klasyfikator. W związku z tym nasze predykcje mają bardzo niski bias, ale bardzo dużą wariancję. Pomimo tego drzewa potrafią dać bardzo przyzwoite wyniki, a w celu ich poprawy można je regularyzować, aby mieć mniej \"rozrośnięte\" drzewo. [Film dla zainteresowanych](https://www.youtube.com/watch?v=D0efHEJsfHo).\n"
         ]
      },
      {
         "cell_type": "markdown",
         "metadata": {
            "editable": true,
            "slideshow": {
               "slide_type": ""
            },
            "tags": []
         },
         "source": [
            "Mając wytrenowany klasyfikator, trzeba oczywiście sprawdzić, jak dobrze on sobie radzi. Tu natrafiamy na kolejny problem z klasyfikacją niezbalansowaną - zwykła celność (accuracy) na pewno nie zadziała! Typowo wykorzystuje się AUC, nazywane też AUROC (Area Under Receiver Operating Characteristic), bo metryka ta uwzględnia niezbalansowanie klas. \n",
            "\n",
            "Bardzo dobre i bardziej szczegółowe wytłumaczenie, z interktywnymi wizualizacjami, można znaleć [tutaj](https://mlu-explain.github.io/roc-auc/). Dla preferujących filmy - [tutaj](https://www.youtube.com/watch?v=4jRBRDbJemM).\n",
            "\n",
            "Co ważne, z definicji AUROC, trzeba w niej użyć **prawdopodobieństw klasy pozytywnej** (klasy 1). W Scikit-learn'ie zwraca je metoda `.predict_proba()`, która w kolejnych kolumnach zwraca prawdopodobieństwa poszczególnych klas."
         ]
      },
      {
         "cell_type": "markdown",
         "metadata": {
            "editable": true,
            "slideshow": {
               "slide_type": ""
            },
            "tags": [
               "ex"
            ]
         },
         "source": [
            "### Zadanie 3 (0.75 punktu)"
         ]
      },
      {
         "cell_type": "markdown",
         "metadata": {
            "editable": true,
            "slideshow": {
               "slide_type": ""
            },
            "tags": [
               "ex"
            ]
         },
         "source": [
            "1. Wytrenuj klasyfikator drzewa decyzyjnego (klasa `DecisionTreeClassifier`). Użyj entropii jako kryterium podziału.\n",
            "2. Oblicz i wypisz AUROC na zbiorze testowym dla drzewa decyzyjnego (funkcja `roc_auc_score`).\n",
            "3. Skomentuj wynik - czy twoim zdaniem osiągnięty AUROC to dużo czy mało, biorąc pod uwagę możliwy zakres wartości tej metryki?\n",
            "\n",
            "**Uwaga:**\n",
            "- pamiętaj o użyciu stałego ziarna `random_state=0`,\n",
            "- jeżeli drzewo nie wyświetli się samo, użyj `plt.show()` z Matplotliba,\n",
            "- pamiętaj o tym, żeby przekazać do metryki AUROC **prawdopodobieństwa klasy pozytywnej**, a nie binarne predykcje!"
         ]
      },
      {
         "cell_type": "code",
         "execution_count": 16,
         "metadata": {
            "editable": true,
            "pycharm": {
               "name": "#%%\n"
            },
            "slideshow": {
               "slide_type": ""
            },
            "tags": [
               "ex"
            ]
         },
         "outputs": [
            {
               "name": "stdout",
               "output_type": "stream",
               "text": [
                  "Train AUC: 0.7266899766899767\n"
               ]
            },
            {
               "data": {
                  "image/png": "[encoded data removed]",
                  "text/plain": [
                     "<Figure size 640x480 with 1 Axes>"
                  ]
               },
               "metadata": {},
               "output_type": "display_data"
            }
         ],
         "source": [
            "from sklearn.tree import DecisionTreeClassifier\n",
            "from sklearn import tree\n",
            "\n",
            "model = DecisionTreeClassifier(random_state=0, criterion='entropy')\n",
            "model = model.fit(X_train, y_train)\n",
            "tree.plot_tree(model, filled=True, feature_names=feature_names, class_names=[\"0\", \"1\"])\n",
            "\n",
            "from sklearn.metrics import roc_auc_score\n",
            "auroc = roc_auc_score(y_test, model.predict_proba(X_test)[:, 1])\n",
            "print(f\"Train AUC: {auroc}\")"
         ]
      },
      {
         "cell_type": "code",
         "execution_count": 17,
         "metadata": {
            "editable": true,
            "slideshow": {
               "slide_type": ""
            },
            "tags": [
               "ex"
            ]
         },
         "outputs": [
            {
               "name": "stdout",
               "output_type": "stream",
               "text": [
                  "Solution is correct!\n"
               ]
            }
         ],
         "source": [
            "assert auroc > 0.7\n",
            "\n",
            "print(\"Solution is correct!\")"
         ]
      },
      {
         "cell_type": "markdown",
         "metadata": {
            "editable": true,
            "pycharm": {
               "name": "#%% md\n"
            },
            "slideshow": {
               "slide_type": ""
            },
            "tags": [
               "ex"
            ]
         },
         "source": [
            "Wynik miary 0.72 jest uznawany za akceptowalny"
         ]
      },
      {
         "cell_type": "markdown",
         "metadata": {
            "editable": true,
            "pycharm": {
               "name": "#%% md\n"
            },
            "slideshow": {
               "slide_type": ""
            },
            "tags": []
         },
         "source": [
            "## Uczenie zespołowe, bagging, lasy losowe"
         ]
      },
      {
         "cell_type": "markdown",
         "metadata": {
            "editable": true,
            "pycharm": {
               "name": "#%% md\n"
            },
            "slideshow": {
               "slide_type": ""
            },
            "tags": []
         },
         "source": [
            "Bardzo często wiele klasyfikatorów działających razem daje lepsze wyniki niż pojedynczy klasyfikator. Takie podejście nazywa się **uczeniem zespołowym (ensemble learning)**. Istnieje wiele różnych podejść do tworzenia takich klasyfikatorów złożonych (ensemble classifiers).\n",
            "\n",
            "Podstawową metodą jest **bagging**:\n",
            "1. Wylosuj N (np. 100, 500, ...) próbek boostrapowych (boostrap sample) ze zbioru treningowego. Próbka boostrapowa to po prostu losowanie ze zwracaniem, gdzie dla wejściowego zbioru z M wierszami losujemy M próbek (czyli tyle ile było w początkowym zbiorze), spośród N wylosowanych próbek. Będą tam powtórzenia, średnio nawet 1/3, ale się tym nie przejmujemy.\n",
            "2. Wytrenuj klasyfikator bazowy (base classifier) na każdej z próbek boostrapowych.\n",
            "3. Stwórz klasyfikator złożony poprzez uśrednienie predykcji każdego z klasyfikatorów bazowych.\n",
            "\n",
            "<img src = https://upload.wikimedia.org/wikipedia/commons/thumb/c/c8/Ensemble_Bagging.svg/440px-Ensemble_Bagging.svg.png width = \"440\" height = \"248\" >\n",
            "\n",
            "Typowo klasyfikatory bazowe są bardzo proste, żeby można było szybko wytrenować ich dużą liczbę. Prawie zawsze używa się do tego drzew decyzyjnych. Dla klasyfikacji uśrednienie wyników polega na głosowaniu - dla nowej próbki każdy klasyfikator bazowy ją klasyfikuje, sumuje się głosy na każdą klasę i zwraca najbardziej popularną decyzję.\n",
            "\n",
            "Taki sposób uczenia zmniejsza wariancję klasyfikatora. Intuicyjnie, skoro coś uśredniamy, to siłą rzeczy będzie mniej rozrzucone, bo dużo ciężej będzie osiągnąć jakąś skrajność. Redukuje to też overfitting.\n",
            "\n",
            "**Lasy losowe (Random Forests)** to ulepszenie baggingu. Zaobserwowano, że pomimo losowania próbek boostrapowych, w baggingu poszczególne drzewa są do siebie bardzo podobne (są skorelowane), używają podobnych cech ze zbioru. My natomiast chcemy zróżnicowania, żeby mieć niski bias - redukcją wariancji zajmuje się uśrednianie. Dlatego używa się metody losowej podprzestrzeni (random subspace method) - przy każdym podziale drzewa losuje się tylko pewien podzbiór cech, których możemy użyć do tego podziału. Typowo jest to pierwiastek kwadratowy z ogólnej liczby cech.\n",
            "\n",
            "Zarówno bagging, jak i lasy losowe mają dodatkowo bardzo przyjemną własność - są mało czułe na hiperparametry, szczególnie na liczbę drzew. W praktyce wystarczy ustawić 500 czy 1000 drzew i klasyfikator będzie dobrze działać. Dalsze dostrajanie hiperparametrów może jeszcze trochę poprawić wyniki, ale nie tak bardzo, jak przy innych klasyfikatorach. Jest to zatem doskonały wybór domyślny, kiedy nie wiemy, jakiego klasyfikatora użyć.\n",
            "\n",
            "Dodatkowo jest to problem **embarassingly parallel** - drzewa można trenować w 100% równolegle, dzięki czemu jest to dodatkowo wydajna obliczeniowo metoda.\n",
            "\n",
            "Głębsze wytłumaczenie, z interaktywnymi wizualizacjami, można znaleźć [tutaj](https://mlu-explain.github.io/random-forest/). Dobrze tłumaczy je też [ta seria filmów](https://www.youtube.com/watch?v=J4Wdy0Wc_xQ&t=480s)."
         ]
      },
      {
         "cell_type": "markdown",
         "metadata": {
            "editable": true,
            "slideshow": {
               "slide_type": ""
            },
            "tags": [
               "ex"
            ]
         },
         "source": [
            "### Zadanie 4 (0.5 punktu)"
         ]
      },
      {
         "cell_type": "markdown",
         "metadata": {
            "editable": true,
            "slideshow": {
               "slide_type": ""
            },
            "tags": [
               "ex"
            ]
         },
         "source": [
            "1. Wytrenuj klasyfikator Random Forest (klasa `RandomForestClassifier`). Użyj 500 drzew i entropii jako kryterium podziału.\n",
            "2. Sprawdź AUROC na zbiorze testowym.\n",
            "3. Skomentuj wynik w odniesieniu do drzewa decyzyjnego.\n",
            "\n",
            "**Uwaga:** pamiętaj o ustawieniu `random_state=0`. Dla przyspieszenia ustaw `n_jobs=-1` (użyje tylu procesów, ile masz dostępnych rdzeni procesora). Pamiętaj też o przekazaniu prawdopodobieństw do metryki AUROC."
         ]
      },
      {
         "cell_type": "code",
         "execution_count": 18,
         "metadata": {
            "editable": true,
            "pycharm": {
               "name": "#%%\n"
            },
            "slideshow": {
               "slide_type": ""
            },
            "tags": [
               "ex"
            ]
         },
         "outputs": [
            {
               "name": "stdout",
               "output_type": "stream",
               "text": [
                  "Train AUC: 0.8994111948657404\n"
               ]
            }
         ],
         "source": [
            "from sklearn.ensemble import RandomForestClassifier\n",
            "model = RandomForestClassifier(random_state=0, criterion='entropy', n_estimators=500, n_jobs=-1)\n",
            "model = model.fit(X_train, y_train)\n",
            "\n",
            "auroc = roc_auc_score(y_test, model.predict_proba(X_test)[:, 1])\n",
            "print(f\"Train AUC: {auroc}\")"
         ]
      },
      {
         "cell_type": "code",
         "execution_count": 19,
         "metadata": {
            "editable": true,
            "slideshow": {
               "slide_type": ""
            },
            "tags": [
               "ex"
            ]
         },
         "outputs": [
            {
               "name": "stdout",
               "output_type": "stream",
               "text": [
                  "Solution is correct!\n"
               ]
            }
         ],
         "source": [
            "assert auroc > 0.85\n",
            "\n",
            "print(\"Solution is correct!\")"
         ]
      },
      {
         "cell_type": "markdown",
         "metadata": {
            "editable": true,
            "pycharm": {
               "name": "#%% md\n"
            },
            "slideshow": {
               "slide_type": ""
            },
            "tags": [
               "ex"
            ]
         },
         "source": [
            "Klasyfikacja wykonana za pomocą lasu losowego jest dokładniejsza niż klasyfikacja wykonana za pomocą pojedynczego drzewa decyzyjnego"
         ]
      },
      {
         "cell_type": "markdown",
         "metadata": {
            "editable": true,
            "pycharm": {
               "name": "#%% md\n"
            },
            "slideshow": {
               "slide_type": ""
            },
            "tags": []
         },
         "source": [
            "Jak zobaczymy poniżej, wynik ten możemy jednak jeszcze ulepszyć!"
         ]
      },
      {
         "cell_type": "markdown",
         "metadata": {
            "editable": true,
            "pycharm": {
               "name": "#%% md\n"
            },
            "slideshow": {
               "slide_type": ""
            },
            "tags": []
         },
         "source": [
            "## Oversampling, SMOTE"
         ]
      },
      {
         "cell_type": "markdown",
         "metadata": {
            "editable": true,
            "pycharm": {
               "name": "#%% md\n"
            },
            "slideshow": {
               "slide_type": ""
            },
            "tags": []
         },
         "source": [
            "W przypadku zbiorów niezbalansowanych można dokonać **balansowania (balancing)** zbioru. Są tutaj 2 metody:\n",
            "- **undersampling**: usunięcie przykładów z klasy dominującej\n",
            "- **oversampling**: wygenerowanie dodatkowych przykładów z klasy mniejszościowej\n",
            "\n",
            "Undersampling działa dobrze, kiedy niezbalansowanie jest niewielkie, a zbiór jest duży (możemy sobie pozwolić na usunięcie jego części). Oversampling typowo daje lepsze wyniki, istnieją dla niego bardzo efektywne algorytmy. W przypadku bardzo dużego niezbalansowania można zrobić oba.\n",
            "\n",
            "Typowym algorytmem oversamplingu jest **SMOTE (Synthetic Minority Oversampling TEchnique)**. Działa on następująco:\n",
            "1. Idź po kolei po przykładach z klasy mniejszościowej.\n",
            "2. Znajdź `k` najbliższych przykładów dla próbki, typowo `k=5`.\n",
            "3. Wylosuj tylu sąsiadów, ile trzeba do oversamplingu, np. jeżeli chcemy zwiększyć klasę mniejszościową 3 razy (o 200%), to wylosuj 2 z 5 sąsiadów.\n",
            "4. Dla każdego z wylosowanych sąsiadów wylosuj punkt na linii prostej między próbką a tym sąsiadem. Dodaj ten punkt jako nową próbkę do zbioru.\n",
            "\n",
            "<img src = https://miro.medium.com/max/734/1*yRumRhn89acByodBz0H7oA.png >\n",
            "\n",
            "Taka technika generuje przykłady bardzo podobne do prawdziwych, więc nie zaburza zbioru, a jednocześnie pomaga klasyfikatorom, bo \"zagęszcza\" przestrzeń, w której znajduje się klasa pozytywna.\n",
            "\n",
            "Algorytm SMOTE, jego warianty i inne algorytmy dla problemów niezbalansowanych implementuje biblioteka Imbalanced-learn."
         ]
      },
      {
         "cell_type": "markdown",
         "metadata": {
            "editable": true,
            "execution": {
               "iopub.execute_input": "2024-10-07T13:36:43.138444Z",
               "iopub.status.busy": "2024-10-07T13:36:43.137348Z",
               "iopub.status.idle": "2024-10-07T13:36:43.147546Z",
               "shell.execute_reply": "2024-10-07T13:36:43.144776Z",
               "shell.execute_reply.started": "2024-10-07T13:36:43.138374Z"
            },
            "slideshow": {
               "slide_type": ""
            },
            "tags": [
               "ex"
            ]
         },
         "source": [
            "### Zadanie 5 (1 punkt)"
         ]
      },
      {
         "cell_type": "markdown",
         "metadata": {
            "editable": true,
            "slideshow": {
               "slide_type": ""
            },
            "tags": [
               "ex"
            ]
         },
         "source": [
            "Użyj SMOTE do zbalansowania zbioru treningowego (nie używa się go na zbiorze testowym!). Implementuje to klasa `SMOTE`. Wytrenuj drzewo decyzyjne oraz las losowy na zbalansowanym zbiorze, użyj tych samych argumentów co wcześniej. Pamiętaj o użyciu wszędzie stałego ziarna `random_state=0` oraz przekazaniu prawdopodobieństw do AUROC. Skomentuj wynik.\n",
            "\n",
            "Wartość ROC drzewa decyzyjnego przypisz do zmiennej `tree_roc`, a lasu do `forest_roc`."
         ]
      },
      {
         "cell_type": "code",
         "execution_count": 20,
         "metadata": {
            "editable": true,
            "pycharm": {
               "name": "#%%\n"
            },
            "slideshow": {
               "slide_type": ""
            },
            "tags": [
               "ex"
            ]
         },
         "outputs": [],
         "source": [
            "from imblearn.over_sampling import SMOTE\n",
            "sm = SMOTE(random_state=0)\n",
            "\n",
            "X_train_res, y_train_res = sm.fit_resample(X_train, y_train)"
         ]
      },
      {
         "cell_type": "code",
         "execution_count": 24,
         "metadata": {
            "tags": [
               "ex"
            ]
         },
         "outputs": [
            {
               "data": {
                  "text/plain": [
                     "np.float64(0.70995670995671)"
                  ]
               },
               "execution_count": 24,
               "metadata": {},
               "output_type": "execute_result"
            }
         ],
         "source": [
            "model = DecisionTreeClassifier(random_state=0, criterion='entropy')\n",
            "model = model.fit(X_train_res, y_train_res)\n",
            "\n",
            "tree_roc = roc_auc_score(y_test, model.predict_proba(X_test)[:, 1])\n",
            "tree_roc"
         ]
      },
      {
         "cell_type": "code",
         "execution_count": 25,
         "metadata": {
            "tags": [
               "ex"
            ]
         },
         "outputs": [
            {
               "data": {
                  "text/plain": [
                     "np.float64(0.9047644274917003)"
                  ]
               },
               "execution_count": 25,
               "metadata": {},
               "output_type": "execute_result"
            }
         ],
         "source": [
            "model = RandomForestClassifier(random_state=0, criterion='entropy', n_estimators=500, n_jobs=-1)\n",
            "model = model.fit(X_train_res, y_train_res)\n",
            "\n",
            "forest_roc = roc_auc_score(y_test, model.predict_proba(X_test)[:, 1])\n",
            "forest_roc"
         ]
      },
      {
         "cell_type": "code",
         "execution_count": 26,
         "metadata": {
            "editable": true,
            "slideshow": {
               "slide_type": ""
            },
            "tags": [
               "ex"
            ]
         },
         "outputs": [
            {
               "name": "stdout",
               "output_type": "stream",
               "text": [
                  "Solution is correct!\n"
               ]
            }
         ],
         "source": [
            "assert 0.6 < tree_roc < 0.8\n",
            "assert 0.8 < forest_roc < 0.95\n",
            "\n",
            "print(\"Solution is correct!\")"
         ]
      },
      {
         "cell_type": "markdown",
         "metadata": {
            "editable": true,
            "pycharm": {
               "name": "#%% md\n"
            },
            "slideshow": {
               "slide_type": ""
            },
            "tags": [
               "ex"
            ]
         },
         "source": [
            "Wyniki są porównywalne, ale las losowy jest bardziej stabilny"
         ]
      },
      {
         "cell_type": "markdown",
         "metadata": {
            "editable": true,
            "pycharm": {
               "name": "#%% md\n"
            },
            "slideshow": {
               "slide_type": ""
            },
            "tags": []
         },
         "source": [
            "W dalszej części laboratorium używaj zbioru po zastosowaniu SMOTE do treningu klasyfikatorów."
         ]
      },
      {
         "cell_type": "markdown",
         "metadata": {
            "editable": true,
            "pycharm": {
               "name": "#%% md\n"
            },
            "slideshow": {
               "slide_type": ""
            },
            "tags": []
         },
         "source": [
            "## Dostrajanie (tuning) hiperparametrów"
         ]
      },
      {
         "cell_type": "markdown",
         "metadata": {
            "editable": true,
            "pycharm": {
               "name": "#%% md\n"
            },
            "slideshow": {
               "slide_type": ""
            },
            "tags": []
         },
         "source": [
            "Lasy losowe są stosunkowo mało czułe na dobór hiperparametrów - i dobrze, bo mają ich dość dużo. Można zawsze jednak spróbować to zrobić, a w szczególności najważniejszy jest parametr `max_features`, oznaczający, ile cech losować przy każdym podziale drzewa. Typowo sprawdza się wartości z zakresu `[0.1, 0.5]`.\n",
            "\n",
            "W kwestii szybkości, kiedy dostrajamy hiperparametry, to mniej oczywiste jest, jakiego `n_jobs` użyć. Z jednej strony klasyfikator może być trenowany na wielu procesach, a z drugiej można trenować wiele klasyfikatorów na różnych zestawach hiperparametrów równolegle. Jeżeli nasz klasyfikator bardzo dobrze się uwspółbieżnia (jak Random Forest), to można dać mu nawet wszystkie rdzenie, a za to wypróbowywać kolejne zestawy hiperparametrów sekwencyjnie. Warto ustawić parametr `verbose` na 2 lub więcej, żeby dostać logi podczas długiego treningu i mierzyć czas wykonania. W praktyce ustawia się to metodą prób i błędów."
         ]
      },
      {
         "cell_type": "markdown",
         "metadata": {
            "editable": true,
            "slideshow": {
               "slide_type": ""
            },
            "tags": [
               "ex"
            ]
         },
         "source": [
            "### Zadanie 6 (1 punkt)"
         ]
      },
      {
         "cell_type": "markdown",
         "metadata": {
            "editable": true,
            "slideshow": {
               "slide_type": ""
            },
            "tags": [
               "ex"
            ]
         },
         "source": [
            "1. Dobierz wartość hiperparametru `max_features`:\n",
            "   - użyj grid search z 5 foldami,\n",
            "   - wypróbuj wartości `[0.1, 0.2, 0.3, 0.4, 0.5]`,\n",
            "   - wybierz model o najwyższym AUROC (argument `scoring`).\n",
            "2. Sprawdź, jaka była optymalna wartość `max_features`. Jest to atrybut wytrenowanego `GridSearchCV`.\n",
            "3. Skomentuj wynik. Czy warto było poświęcić czas i zasoby na tę procedurę?\n",
            "4. Wynik przypisz do zmiennej `auroc`.\n",
            "\n",
            "**Uwaga:**\n",
            "- pamiętaj, żeby jako estymatora przekazanego do grid search'a użyć instancji Random Forest, która ma już ustawione `random_state=0` i `n_jobs`"
         ]
      },
      {
         "cell_type": "code",
         "execution_count": 28,
         "metadata": {
            "editable": true,
            "pycharm": {
               "is_executing": true,
               "name": "#%%\n"
            },
            "slideshow": {
               "slide_type": ""
            },
            "tags": [
               "ex"
            ]
         },
         "outputs": [
            {
               "data": {
                  "text/plain": [
                     "{'max_features': 0.2}"
                  ]
               },
               "execution_count": 28,
               "metadata": {},
               "output_type": "execute_result"
            }
         ],
         "source": [
            "from sklearn.model_selection import GridSearchCV\n",
            "\n",
            "parameters = {'max_features': [0.1, 0.2, 0.3, 0.4, 0.5]}\n",
            "model = RandomForestClassifier(random_state=0, criterion='entropy', n_estimators=500, n_jobs=-1)\n",
            "grid_search = GridSearchCV(model, parameters, cv=5, scoring='roc_auc', n_jobs=1, verbose=2)\n",
            "\n",
            "results = grid_search.fit(X_train_res, y_train_res)\n",
            "\n",
            "results.best_params_"
         ]
      },
      {
         "cell_type": "code",
         "execution_count": 31,
         "metadata": {
            "tags": [
               "ex"
            ]
         },
         "outputs": [
            {
               "data": {
                  "text/plain": [
                     "np.float64(0.9122619804437986)"
                  ]
               },
               "execution_count": 31,
               "metadata": {},
               "output_type": "execute_result"
            }
         ],
         "source": [
            "auroc = roc_auc_score(y_test, results.predict_proba(X_test)[:, 1])\n",
            "auroc"
         ]
      },
      {
         "cell_type": "code",
         "execution_count": 32,
         "metadata": {
            "editable": true,
            "slideshow": {
               "slide_type": ""
            },
            "tags": [
               "ex"
            ]
         },
         "outputs": [
            {
               "name": "stdout",
               "output_type": "stream",
               "text": [
                  "Solution is correct!\n"
               ]
            }
         ],
         "source": [
            "assert 0.9 <= auroc <= 0.95\n",
            "\n",
            "print(\"Solution is correct!\")"
         ]
      },
      {
         "cell_type": "markdown",
         "metadata": {
            "editable": true,
            "pycharm": {
               "name": "#%% md\n"
            },
            "slideshow": {
               "slide_type": ""
            },
            "tags": [
               "ex"
            ]
         },
         "source": [
            "Dla wartości `max_features` równej 0.2 uzyskano najlepszy wynik, który lekko poprawia wynik z poprzedniego zadania"
         ]
      },
      {
         "cell_type": "markdown",
         "metadata": {
            "editable": true,
            "pycharm": {
               "name": "#%% md\n"
            },
            "slideshow": {
               "slide_type": ""
            },
            "tags": []
         },
         "source": [
            "W praktycznych zastosowaniach osoba trenująca model wedle własnego uznana, doświadczenia, dostępnego czasu i zasobów wybiera, czy dostrajać hiperparametry i w jak szerokim zakresie. Dla Random Forest na szczęście często może nie być znaczącej potrzeby i za to go lubimy :)"
         ]
      },
      {
         "cell_type": "markdown",
         "metadata": {
            "editable": true,
            "pycharm": {
               "name": "#%% md\n"
            },
            "slideshow": {
               "slide_type": ""
            },
            "tags": []
         },
         "source": [
            "**Random Forest - podsumowanie**\n",
            "\n",
            "1. Model oparty o uczenie zespołowe.\n",
            "2. Kluczowe elementy:\n",
            "   - bagging: uczenie wielu klasyfikatorów na próbkach boostrapowych,\n",
            "   - metoda losowej podprzestrzeni: losujemy podzbiór cech do każdego podziału drzewa,\n",
            "   - uśredniamy głosy klasyfikatorów.\n",
            "3. Dość odporny na overfitting, zmniejsza wariancję błędu dzięki uśrednianiu.\n",
            "4. Mało czuły na hiperparametry.\n",
            "5. Przeciętnie daje bardzo dobre wyniki, doskonały wybór domyślny przy wybieraniu algorytmu klasyfikacji."
         ]
      },
      {
         "cell_type": "markdown",
         "metadata": {
            "editable": true,
            "pycharm": {
               "name": "#%% md\n"
            },
            "slideshow": {
               "slide_type": ""
            },
            "tags": []
         },
         "source": [
            "## Boosting"
         ]
      },
      {
         "cell_type": "markdown",
         "metadata": {
            "editable": true,
            "pycharm": {
               "name": "#%% md\n"
            },
            "slideshow": {
               "slide_type": ""
            },
            "tags": []
         },
         "source": [
            "Drugą bardzo ważną grupą algorytmów ensemblingu jest **boosting**, też oparty o drzewa decyzyjne. O ile Random Forest trenował wszystkie klasyfikatory bazowe równolegle i je uśredniał, o tyle boosting robi to sekwencyjnie. Drzewa te uczą się na całym zbiorze, nie na próbkach boostrapowych. Idea jest następująca: trenujemy drzewo decyzyjne, radzi sobie przeciętnie i popełnia błędy na częsci przykładów treningowych. Dokładamy kolejne, ale znające błędy swojego poprzednika, dzięki czemu może to uwzględnić i je poprawić. W związku z tym \"boostuje\" się dzięki wiedzy od poprzednika. Dokładamy kolejne drzewa zgodnie z tą samą zasadą.\n",
            "\n",
            "Jak uczyć się na błędach poprzednika? Jest to pewna **funkcja kosztu** (błędu), którą chcemy zminimalizować. Zakłada się jakąś jej konkretną postać, np. squared error dla regresji, albo logistic loss dla klasyfikacji. Później wykorzystuje się spadek wzdłuż gradientu (gradient descent), aby nauczyć się, w jakim kierunku powinny optymalizować kolejne drzewa, żeby zminimalizować błędy poprzednika. Jest to konkretnie **gradient boosting**, absolutnie najpopularniejsza forma boostingu, i jeden z najpopularniejszych i osiągających najlepsze wyniki algorytmów ML.\n",
            "\n",
            "Tyle co do intuicji. Ogólny algorytm gradient boostingu jest trochę bardziej skomplikowany. Bardzo dobrze i krok po kroku tłumaczy go [ta seria filmów na YT](https://www.youtube.com/watch?v=3CC4N4z3GJc). Szczególnie ważne implementacje gradient boostingu to **XGBoost (Extreme Gradient Boosting)** oraz **LightGBM (Light Gradient Boosting Machine)**. XGBoost był prawdziwym przełomem w ML, uzyskując doskonałe wyniki i bardzo dobrze się skalując - był wykorzystany w CERNie do wykrywania cząstki Higgsa w zbiorze z pomiarów LHC mającym 10 milionów próbek. Jego implementacja jest dość złożona, ale dobrze tłumaczy ją [inna seria filmików na YT](https://www.youtube.com/watch?v=OtD8wVaFm6E).\n",
            "\n",
            "![](xgboost.png)\n",
            "\n",
            "Obecnie najczęściej wykorzystuje się LightGBM. Został stworzony przez Microsoft na podstawie doświadczeń z XGBoostem. Został jeszcze bardziej ulepszony i przyspieszony, ale różnice są głównie implementacyjne. Różnice dobrze tłumaczy [ta prezentacja z konferencji PyData](https://www.youtube.com/watch?v=5CWwwtEM2TA) oraz [prezentacja Microsoftu](https://www.youtube.com/watch?v=5nKSMXBFhes). Dla zainteresowanych - [praktyczne aspekty LightGBM](https://www.kaggle.com/code/prashant111/lightgbm-classifier-in-python/notebook)."
         ]
      },
      {
         "cell_type": "markdown",
         "metadata": {
            "editable": true,
            "slideshow": {
               "slide_type": ""
            },
            "tags": [
               "ex"
            ]
         },
         "source": [
            "### Zadanie 7 (0.5 punktu)"
         ]
      },
      {
         "cell_type": "markdown",
         "metadata": {
            "editable": true,
            "slideshow": {
               "slide_type": ""
            },
            "tags": [
               "ex"
            ]
         },
         "source": [
            "1. Wytrenuj klasyfikator LightGBM (klasa `LGBMClassifier`). Przekaż `importance_type=\"gain\"` - przyda nam się to za chwilę.\n",
            "2. Sprawdź AUROC na zbiorze testowym.\n",
            "3. Skomentuj wynik w odniesieniu do wcześniejszych algorytmów.\n",
            "\n",
            "Pamiętaj o `random_state`, `n_jobs` i prawdopodobieństwach dla AUROC."
         ]
      },
      {
         "cell_type": "code",
         "execution_count": 43,
         "metadata": {
            "editable": true,
            "pycharm": {
               "is_executing": true,
               "name": "#%%\n"
            },
            "slideshow": {
               "slide_type": ""
            },
            "tags": [
               "ex"
            ]
         },
         "outputs": [
            {
               "name": "stdout",
               "output_type": "stream",
               "text": [
                  "[LightGBM] [Info] Number of positive: 8006, number of negative: 8006\n",
                  "[LightGBM] [Info] Auto-choosing col-wise multi-threading, the overhead of testing was 0.003939 seconds.\n",
                  "You can set `force_col_wise=true` to remove the overhead.\n",
                  "[LightGBM] [Info] Total Bins 16065\n",
                  "[LightGBM] [Info] Number of data points in the train set: 16012, number of used features: 63\n",
                  "[LightGBM] [Info] [binary:BoostFromScore]: pavg=0.500000 -> initscore=0.000000\n"
               ]
            },
            {
               "data": {
                  "text/plain": [
                     "np.float64(0.9527442254714982)"
                  ]
               },
               "execution_count": 43,
               "metadata": {},
               "output_type": "execute_result"
            }
         ],
         "source": [
            "from lightgbm import LGBMClassifier\n",
            "model = LGBMClassifier(random_state=0, n_estimators=500, n_jobs=-1, importance_type='gain')\n",
            "model = model.fit(X_train_res, y_train_res)\n",
            "\n",
            "auroc = roc_auc_score(y_test, model.predict_proba(X_test)[:, 1])\n",
            "auroc"
         ]
      },
      {
         "cell_type": "code",
         "execution_count": 40,
         "metadata": {
            "editable": true,
            "slideshow": {
               "slide_type": ""
            },
            "tags": [
               "ex"
            ]
         },
         "outputs": [
            {
               "name": "stdout",
               "output_type": "stream",
               "text": [
                  "Solution is correct!\n"
               ]
            }
         ],
         "source": [
            "assert 0.9 <= auroc <= 0.97\n",
            "\n",
            "print(\"Solution is correct!\")"
         ]
      },
      {
         "cell_type": "markdown",
         "metadata": {
            "editable": true,
            "pycharm": {
               "name": "#%% md\n"
            },
            "slideshow": {
               "slide_type": ""
            },
            "tags": [
               "ex"
            ]
         },
         "source": [
            "Użycie boostingu pozwoliło na uzyskanie większego skoku w jakości klasyfikacji niż poprzednie ulepszenia"
         ]
      },
      {
         "cell_type": "markdown",
         "metadata": {
            "editable": true,
            "pycharm": {
               "name": "#%% md\n"
            },
            "slideshow": {
               "slide_type": ""
            },
            "tags": []
         },
         "source": [
            "Boosting dzięki uczeniu na poprzednich drzewach redukuje nie tylko wariancję, ale też bias w błędzie, dzięki czemu może w wielu przypadkach osiągnąć lepsze rezultaty od lasu losowego. Do tego dzięki znakomitej implementacji LightGBM jest szybszy.\n",
            "\n",
            "Boosting jest jednak o wiele bardziej czuły na hiperparametry niż Random Forest. W szczególności bardzo łatwo go przeuczyć, a większość hiperparametrów, których jest dużo, wiąże się z regularyzacją modelu. To, że teraz poszło nam lepiej z domyślnymi, jest rzadkim przypadkiem.\n",
            "\n",
            "W związku z tym, że przestrzeń hiperparametrów jest duża, przeszukanie wszystkich kombinacji nie wchodzi w grę. Zamiast tego można wylosować zadaną liczbę zestawów hiperparametrów i tylko je sprawdzić - chociaż im więcej, tym lepsze wyniki powinniśmy dostać. Służy do tego `RandomizedSearchCV`. Co więcej, klasa ta potrafi próbkować rozkłady prawdopodobieństwa, a nie tylko sztywne listy wartości, co jest bardzo przydatne przy parametrach ciągłych.\n",
            "\n",
            "Hiperparametry LightGBMa są dobrze opisane w oficjalnej dokumentacji: [wersja krótsza](https://lightgbm.readthedocs.io/en/latest/pythonapi/lightgbm.LGBMClassifier.html#lightgbm.LGBMClassifier) i [wersja dłuższa](https://lightgbm.readthedocs.io/en/latest/Parameters.html). Jest ich dużo, więc nie będziemy ich tutaj omawiać. Jeżeli chodzi o ich dostrajanie w praktyce, to przydatny jest [oficjalny przewodnik](https://lightgbm.readthedocs.io/en/latest/Parameters-Tuning.html) oraz dyskusje na Kaggle."
         ]
      },
      {
         "cell_type": "markdown",
         "metadata": {
            "editable": true,
            "slideshow": {
               "slide_type": ""
            },
            "tags": [
               "ex"
            ]
         },
         "source": [
            "### Zadanie 8 (1.5 punktu)"
         ]
      },
      {
         "cell_type": "markdown",
         "metadata": {
            "editable": true,
            "slideshow": {
               "slide_type": ""
            },
            "tags": [
               "ex"
            ]
         },
         "source": [
            "1. Zaimplementuj random search dla LightGBMa (klasa `RandomizedSearchCV`):\n",
            "   - użyj tylu prób, na ile pozwalają twoje zasoby obliczeniowe, ale przynajmniej 30,\n",
            "   - przeszukaj przestrzeń hiperparametrów:\n",
            "    ```\n",
            "    param_grid = {\n",
            "        \"n_estimators\": [100, 250, 500],\n",
            "        \"learning_rate\": [0.05, 0.1, 0.2],\n",
            "        \"num_leaves\": [31, 48, 64],\n",
            "        \"colsample_bytree\": [0.8, 0.9, 1.0],\n",
            "        \"subsample\": [0.8, 0.9, 1.0],\n",
            "    }\n",
            "    ```\n",
            "2. Wypisz znalezione optymalne hiperparametry.\n",
            "3. Wypisz raporty z klasyfikacji (funkcja `classification_report`), dla modelu LightGBM bez i z dostrajaniem hiperparametrów.\n",
            "4. Skomentuj różnicę precyzji (precision) i czułości (recall) między modelami bez i z dostrajaniem hiperparametrów. Czy jest to pożądane zjawisko w tym przypadku?\n",
            "5. Wartość ROC przypisz do zmiennej `auroc`.\n",
            "\n",
            "**Uwaga:** \n",
            "- koniecznie ustaw `verbose=-1` przy tworzeniu `LGBMClassifier`, żeby uniknąć kolosalnej ilości logów, która potrafi też wyłączyć Jupytera\n",
            "- pamiętaj o ustawieniu `importance_type`, `random_state=0` i `n_jobs`, oraz ewentualnie `verbose` w `RandomizedSearchCV` dla śledzenia przebiegu\n",
            "- istnieje możliwość, że ustawienie `n_jobs` dla grid searcha będzie szybsze niż dla samego LightGBM; odpowiada to tuningowi wielu klasyfikatorów równolegle, przy wolniejszym treningu pojedynczych klasyfikatorów\n",
            "- nie ustawiaj wszędzie `n_jobs=-1`, bo wtedy stworzysz więcej procesów niż rdzeni i spowodujesz thread contention"
         ]
      },
      {
         "cell_type": "code",
         "execution_count": 46,
         "metadata": {
            "editable": true,
            "pycharm": {
               "is_executing": true,
               "name": "#%%\n"
            },
            "slideshow": {
               "slide_type": ""
            },
            "tags": [
               "ex"
            ]
         },
         "outputs": [
            {
               "name": "stdout",
               "output_type": "stream",
               "text": [
                  "[LightGBM] [Info] Number of positive: 8006, number of negative: 8006\n",
                  "[LightGBM] [Info] Auto-choosing col-wise multi-threading, the overhead of testing was 0.004019 seconds.\n",
                  "You can set `force_col_wise=true` to remove the overhead.\n",
                  "[LightGBM] [Info] Total Bins 16065\n",
                  "[LightGBM] [Info] Number of data points in the train set: 16012, number of used features: 63\n",
                  "[LightGBM] [Info] [binary:BoostFromScore]: pavg=0.500000 -> initscore=0.000000\n",
                  "Without tuning\n",
                  "              precision    recall  f1-score   support\n",
                  "\n",
                  "           0       0.98      0.99      0.98      2002\n",
                  "           1       0.76      0.55      0.64        99\n",
                  "\n",
                  "    accuracy                           0.97      2101\n",
                  "   macro avg       0.87      0.77      0.81      2101\n",
                  "weighted avg       0.97      0.97      0.97      2101\n",
                  "\n",
                  "[LightGBM] [Info] Number of positive: 8006, number of negative: 8006\n",
                  "[LightGBM] [Info] Auto-choosing col-wise multi-threading, the overhead of testing was 0.002787 seconds.\n",
                  "You can set `force_col_wise=true` to remove the overhead.\n",
                  "[LightGBM] [Info] Total Bins 16065\n",
                  "[LightGBM] [Info] Number of data points in the train set: 16012, number of used features: 63\n",
                  "[LightGBM] [Info] [binary:BoostFromScore]: pavg=0.500000 -> initscore=0.000000\n",
                  "[LightGBM] [Warning] No further splits with positive gain, best gain: -inf\n",
                  "[LightGBM] [Warning] No further splits with positive gain, best gain: -inf\n",
                  "[LightGBM] [Warning] No further splits with positive gain, best gain: -inf\n",
                  "[LightGBM] [Warning] No further splits with positive gain, best gain: -inf\n",
                  "[LightGBM] [Warning] No further splits with positive gain, best gain: -inf\n",
                  "[LightGBM] [Warning] No further splits with positive gain, best gain: -inf\n",
                  "[LightGBM] [Warning] No further splits with positive gain, best gain: -inf\n",
                  "[LightGBM] [Warning] No further splits with positive gain, best gain: -inf\n",
                  "[LightGBM] [Warning] No further splits with positive gain, best gain: -inf\n",
                  "[LightGBM] [Warning] No further splits with positive gain, best gain: -inf\n",
                  "[LightGBM] [Warning] No further splits with positive gain, best gain: -inf\n",
                  "[LightGBM] [Warning] No further splits with positive gain, best gain: -inf\n",
                  "[LightGBM] [Warning] No further splits with positive gain, best gain: -inf\n",
                  "[LightGBM] [Warning] No further splits with positive gain, best gain: -inf\n",
                  "[LightGBM] [Warning] No further splits with positive gain, best gain: -inf\n",
                  "[LightGBM] [Warning] No further splits with positive gain, best gain: -inf\n",
                  "[LightGBM] [Warning] No further splits with positive gain, best gain: -inf\n",
                  "[LightGBM] [Warning] No further splits with positive gain, best gain: -inf\n",
                  "[LightGBM] [Warning] No further splits with positive gain, best gain: -inf\n",
                  "[LightGBM] [Warning] No further splits with positive gain, best gain: -inf\n",
                  "[LightGBM] [Warning] No further splits with positive gain, best gain: -inf\n",
                  "[LightGBM] [Warning] No further splits with positive gain, best gain: -inf\n",
                  "[LightGBM] [Warning] No further splits with positive gain, best gain: -inf\n",
                  "[LightGBM] [Warning] No further splits with positive gain, best gain: -inf\n",
                  "[LightGBM] [Warning] No further splits with positive gain, best gain: -inf\n",
                  "[LightGBM] [Warning] No further splits with positive gain, best gain: -inf\n",
                  "[LightGBM] [Warning] No further splits with positive gain, best gain: -inf\n",
                  "[LightGBM] [Warning] No further splits with positive gain, best gain: -inf\n",
                  "[LightGBM] [Warning] No further splits with positive gain, best gain: -inf\n",
                  "[LightGBM] [Warning] No further splits with positive gain, best gain: -inf\n",
                  "[LightGBM] [Warning] No further splits with positive gain, best gain: -inf\n",
                  "[LightGBM] [Warning] No further splits with positive gain, best gain: -inf\n",
                  "[LightGBM] [Warning] No further splits with positive gain, best gain: -inf\n",
                  "[LightGBM] [Warning] No further splits with positive gain, best gain: -inf\n",
                  "[LightGBM] [Warning] No further splits with positive gain, best gain: -inf\n",
                  "[LightGBM] [Warning] No further splits with positive gain, best gain: -inf\n",
                  "[LightGBM] [Warning] No further splits with positive gain, best gain: -inf\n",
                  "[LightGBM] [Warning] No further splits with positive gain, best gain: -inf\n",
                  "[LightGBM] [Warning] No further splits with positive gain, best gain: -inf\n",
                  "[LightGBM] [Warning] No further splits with positive gain, best gain: -inf\n",
                  "[LightGBM] [Warning] No further splits with positive gain, best gain: -inf\n",
                  "[LightGBM] [Warning] No further splits with positive gain, best gain: -inf\n",
                  "[LightGBM] [Warning] No further splits with positive gain, best gain: -inf\n",
                  "[LightGBM] [Warning] No further splits with positive gain, best gain: -inf\n",
                  "[LightGBM] [Warning] No further splits with positive gain, best gain: -inf\n",
                  "[LightGBM] [Warning] No further splits with positive gain, best gain: -inf\n",
                  "[LightGBM] [Warning] No further splits with positive gain, best gain: -inf\n",
                  "[LightGBM] [Warning] No further splits with positive gain, best gain: -inf\n",
                  "[LightGBM] [Warning] No further splits with positive gain, best gain: -inf\n",
                  "[LightGBM] [Warning] No further splits with positive gain, best gain: -inf\n",
                  "[LightGBM] [Warning] No further splits with positive gain, best gain: -inf\n",
                  "[LightGBM] [Warning] No further splits with positive gain, best gain: -inf\n",
                  "[LightGBM] [Warning] No further splits with positive gain, best gain: -inf\n",
                  "[LightGBM] [Warning] No further splits with positive gain, best gain: -inf\n",
                  "[LightGBM] [Warning] No further splits with positive gain, best gain: -inf\n",
                  "[LightGBM] [Warning] No further splits with positive gain, best gain: -inf\n",
                  "[LightGBM] [Warning] No further splits with positive gain, best gain: -inf\n",
                  "[LightGBM] [Warning] No further splits with positive gain, best gain: -inf\n",
                  "[LightGBM] [Warning] No further splits with positive gain, best gain: -inf\n",
                  "[LightGBM] [Warning] No further splits with positive gain, best gain: -inf\n",
                  "[LightGBM] [Warning] No further splits with positive gain, best gain: -inf\n",
                  "[LightGBM] [Warning] No further splits with positive gain, best gain: -inf\n",
                  "[LightGBM] [Warning] No further splits with positive gain, best gain: -inf\n",
                  "[LightGBM] [Warning] No further splits with positive gain, best gain: -inf\n",
                  "[LightGBM] [Warning] No further splits with positive gain, best gain: -inf\n",
                  "[LightGBM] [Warning] No further splits with positive gain, best gain: -inf\n",
                  "[LightGBM] [Warning] No further splits with positive gain, best gain: -inf\n",
                  "[LightGBM] [Warning] No further splits with positive gain, best gain: -inf\n",
                  "[LightGBM] [Warning] No further splits with positive gain, best gain: -inf\n",
                  "[LightGBM] [Warning] No further splits with positive gain, best gain: -inf\n",
                  "[LightGBM] [Warning] No further splits with positive gain, best gain: -inf\n",
                  "[LightGBM] [Warning] No further splits with positive gain, best gain: -inf\n",
                  "[LightGBM] [Warning] No further splits with positive gain, best gain: -inf\n",
                  "[LightGBM] [Warning] No further splits with positive gain, best gain: -inf\n",
                  "[LightGBM] [Warning] No further splits with positive gain, best gain: -inf\n",
                  "[LightGBM] [Warning] No further splits with positive gain, best gain: -inf\n",
                  "[LightGBM] [Warning] No further splits with positive gain, best gain: -inf\n",
                  "[LightGBM] [Warning] No further splits with positive gain, best gain: -inf\n",
                  "[LightGBM] [Warning] No further splits with positive gain, best gain: -inf\n",
                  "[LightGBM] [Warning] No further splits with positive gain, best gain: -inf\n",
                  "[LightGBM] [Warning] No further splits with positive gain, best gain: -inf\n",
                  "[LightGBM] [Warning] No further splits with positive gain, best gain: -inf\n",
                  "[LightGBM] [Warning] No further splits with positive gain, best gain: -inf\n",
                  "[LightGBM] [Warning] No further splits with positive gain, best gain: -inf\n",
                  "[LightGBM] [Warning] No further splits with positive gain, best gain: -inf\n",
                  "[LightGBM] [Warning] No further splits with positive gain, best gain: -inf\n",
                  "[LightGBM] [Warning] No further splits with positive gain, best gain: -inf\n",
                  "[LightGBM] [Warning] No further splits with positive gain, best gain: -inf\n",
                  "[LightGBM] [Warning] No further splits with positive gain, best gain: -inf\n",
                  "[LightGBM] [Warning] No further splits with positive gain, best gain: -inf\n",
                  "[LightGBM] [Warning] No further splits with positive gain, best gain: -inf\n",
                  "[LightGBM] [Warning] No further splits with positive gain, best gain: -inf\n",
                  "[LightGBM] [Warning] No further splits with positive gain, best gain: -inf\n",
                  "[LightGBM] [Warning] No further splits with positive gain, best gain: -inf\n",
                  "[LightGBM] [Warning] No further splits with positive gain, best gain: -inf\n",
                  "[LightGBM] [Warning] No further splits with positive gain, best gain: -inf\n",
                  "[LightGBM] [Warning] No further splits with positive gain, best gain: -inf\n",
                  "[LightGBM] [Warning] No further splits with positive gain, best gain: -inf\n",
                  "[LightGBM] [Warning] No further splits with positive gain, best gain: -inf\n",
                  "[LightGBM] [Warning] No further splits with positive gain, best gain: -inf\n",
                  "[LightGBM] [Warning] No further splits with positive gain, best gain: -inf\n",
                  "[LightGBM] [Warning] No further splits with positive gain, best gain: -inf\n",
                  "[LightGBM] [Warning] No further splits with positive gain, best gain: -inf\n",
                  "[LightGBM] [Warning] No further splits with positive gain, best gain: -inf\n",
                  "[LightGBM] [Warning] No further splits with positive gain, best gain: -inf\n",
                  "[LightGBM] [Warning] No further splits with positive gain, best gain: -inf\n",
                  "[LightGBM] [Warning] No further splits with positive gain, best gain: -inf\n",
                  "[LightGBM] [Warning] No further splits with positive gain, best gain: -inf\n",
                  "[LightGBM] [Warning] No further splits with positive gain, best gain: -inf\n",
                  "[LightGBM] [Warning] No further splits with positive gain, best gain: -inf\n",
                  "[LightGBM] [Warning] No further splits with positive gain, best gain: -inf\n",
                  "[LightGBM] [Warning] No further splits with positive gain, best gain: -inf\n",
                  "[LightGBM] [Warning] No further splits with positive gain, best gain: -inf\n",
                  "[LightGBM] [Warning] No further splits with positive gain, best gain: -inf\n",
                  "[LightGBM] [Warning] No further splits with positive gain, best gain: -inf\n",
                  "[LightGBM] [Warning] No further splits with positive gain, best gain: -inf\n",
                  "[LightGBM] [Warning] No further splits with positive gain, best gain: -inf\n",
                  "[LightGBM] [Warning] No further splits with positive gain, best gain: -inf\n",
                  "[LightGBM] [Warning] No further splits with positive gain, best gain: -inf\n",
                  "[LightGBM] [Warning] No further splits with positive gain, best gain: -inf\n",
                  "[LightGBM] [Warning] No further splits with positive gain, best gain: -inf\n",
                  "[LightGBM] [Warning] No further splits with positive gain, best gain: -inf\n",
                  "[LightGBM] [Warning] No further splits with positive gain, best gain: -inf\n",
                  "[LightGBM] [Warning] No further splits with positive gain, best gain: -inf\n",
                  "[LightGBM] [Warning] No further splits with positive gain, best gain: -inf\n",
                  "[LightGBM] [Warning] No further splits with positive gain, best gain: -inf\n",
                  "[LightGBM] [Warning] No further splits with positive gain, best gain: -inf\n",
                  "[LightGBM] [Warning] No further splits with positive gain, best gain: -inf\n",
                  "[LightGBM] [Warning] No further splits with positive gain, best gain: -inf\n",
                  "[LightGBM] [Warning] No further splits with positive gain, best gain: -inf\n",
                  "[LightGBM] [Warning] No further splits with positive gain, best gain: -inf\n",
                  "[LightGBM] [Warning] No further splits with positive gain, best gain: -inf\n",
                  "[LightGBM] [Warning] No further splits with positive gain, best gain: -inf\n",
                  "[LightGBM] [Warning] No further splits with positive gain, best gain: -inf\n",
                  "[LightGBM] [Warning] No further splits with positive gain, best gain: -inf\n",
                  "[LightGBM] [Warning] No further splits with positive gain, best gain: -inf\n",
                  "[LightGBM] [Warning] No further splits with positive gain, best gain: -inf\n",
                  "[LightGBM] [Warning] No further splits with positive gain, best gain: -inf\n",
                  "[LightGBM] [Warning] No further splits with positive gain, best gain: -inf\n",
                  "[LightGBM] [Warning] No further splits with positive gain, best gain: -inf\n",
                  "[LightGBM] [Warning] No further splits with positive gain, best gain: -inf\n",
                  "[LightGBM] [Warning] No further splits with positive gain, best gain: -inf\n",
                  "[LightGBM] [Warning] No further splits with positive gain, best gain: -inf\n",
                  "[LightGBM] [Warning] No further splits with positive gain, best gain: -inf\n",
                  "[LightGBM] [Warning] No further splits with positive gain, best gain: -inf\n",
                  "[LightGBM] [Warning] No further splits with positive gain, best gain: -inf\n",
                  "[LightGBM] [Warning] No further splits with positive gain, best gain: -inf\n",
                  "[LightGBM] [Warning] No further splits with positive gain, best gain: -inf\n",
                  "[LightGBM] [Warning] No further splits with positive gain, best gain: -inf\n",
                  "[LightGBM] [Warning] No further splits with positive gain, best gain: -inf\n",
                  "[LightGBM] [Warning] No further splits with positive gain, best gain: -inf\n",
                  "[LightGBM] [Warning] No further splits with positive gain, best gain: -inf\n",
                  "[LightGBM] [Warning] No further splits with positive gain, best gain: -inf\n",
                  "[LightGBM] [Warning] No further splits with positive gain, best gain: -inf\n",
                  "[LightGBM] [Warning] No further splits with positive gain, best gain: -inf\n",
                  "[LightGBM] [Warning] No further splits with positive gain, best gain: -inf\n",
                  "[LightGBM] [Warning] No further splits with positive gain, best gain: -inf\n",
                  "[LightGBM] [Warning] No further splits with positive gain, best gain: -inf\n",
                  "[LightGBM] [Warning] No further splits with positive gain, best gain: -inf\n",
                  "[LightGBM] [Warning] No further splits with positive gain, best gain: -inf\n",
                  "[LightGBM] [Warning] No further splits with positive gain, best gain: -inf\n",
                  "[LightGBM] [Warning] No further splits with positive gain, best gain: -inf\n",
                  "[LightGBM] [Warning] No further splits with positive gain, best gain: -inf\n",
                  "[LightGBM] [Warning] No further splits with positive gain, best gain: -inf\n",
                  "[LightGBM] [Warning] No further splits with positive gain, best gain: -inf\n",
                  "[LightGBM] [Warning] No further splits with positive gain, best gain: -inf\n",
                  "[LightGBM] [Warning] No further splits with positive gain, best gain: -inf\n",
                  "[LightGBM] [Warning] No further splits with positive gain, best gain: -inf\n",
                  "[LightGBM] [Warning] No further splits with positive gain, best gain: -inf\n",
                  "[LightGBM] [Warning] No further splits with positive gain, best gain: -inf\n",
                  "[LightGBM] [Warning] No further splits with positive gain, best gain: -inf\n",
                  "[LightGBM] [Warning] No further splits with positive gain, best gain: -inf\n",
                  "[LightGBM] [Warning] No further splits with positive gain, best gain: -inf\n",
                  "[LightGBM] [Warning] No further splits with positive gain, best gain: -inf\n",
                  "[LightGBM] [Warning] No further splits with positive gain, best gain: -inf\n",
                  "[LightGBM] [Warning] No further splits with positive gain, best gain: -inf\n",
                  "[LightGBM] [Warning] No further splits with positive gain, best gain: -inf\n",
                  "[LightGBM] [Warning] No further splits with positive gain, best gain: -inf\n",
                  "[LightGBM] [Warning] No further splits with positive gain, best gain: -inf\n",
                  "[LightGBM] [Warning] No further splits with positive gain, best gain: -inf\n",
                  "[LightGBM] [Warning] No further splits with positive gain, best gain: -inf\n",
                  "[LightGBM] [Warning] No further splits with positive gain, best gain: -inf\n",
                  "[LightGBM] [Warning] No further splits with positive gain, best gain: -inf\n",
                  "[LightGBM] [Warning] No further splits with positive gain, best gain: -inf\n",
                  "[LightGBM] [Warning] No further splits with positive gain, best gain: -inf\n",
                  "[LightGBM] [Warning] No further splits with positive gain, best gain: -inf\n",
                  "[LightGBM] [Warning] No further splits with positive gain, best gain: -inf\n",
                  "[LightGBM] [Warning] No further splits with positive gain, best gain: -inf\n",
                  "[LightGBM] [Warning] No further splits with positive gain, best gain: -inf\n",
                  "[LightGBM] [Warning] No further splits with positive gain, best gain: -inf\n",
                  "[LightGBM] [Warning] No further splits with positive gain, best gain: -inf\n",
                  "[LightGBM] [Warning] No further splits with positive gain, best gain: -inf\n",
                  "[LightGBM] [Warning] No further splits with positive gain, best gain: -inf\n",
                  "[LightGBM] [Warning] No further splits with positive gain, best gain: -inf\n",
                  "[LightGBM] [Warning] No further splits with positive gain, best gain: -inf\n",
                  "[LightGBM] [Warning] No further splits with positive gain, best gain: -inf\n",
                  "[LightGBM] [Warning] No further splits with positive gain, best gain: -inf\n",
                  "[LightGBM] [Warning] No further splits with positive gain, best gain: -inf\n",
                  "[LightGBM] [Warning] No further splits with positive gain, best gain: -inf\n",
                  "[LightGBM] [Warning] No further splits with positive gain, best gain: -inf\n",
                  "[LightGBM] [Warning] No further splits with positive gain, best gain: -inf\n",
                  "[LightGBM] [Warning] No further splits with positive gain, best gain: -inf\n",
                  "[LightGBM] [Warning] No further splits with positive gain, best gain: -inf\n",
                  "[LightGBM] [Warning] No further splits with positive gain, best gain: -inf\n",
                  "[LightGBM] [Warning] No further splits with positive gain, best gain: -inf\n",
                  "[LightGBM] [Warning] No further splits with positive gain, best gain: -inf\n",
                  "[LightGBM] [Warning] No further splits with positive gain, best gain: -inf\n",
                  "[LightGBM] [Warning] No further splits with positive gain, best gain: -inf\n",
                  "[LightGBM] [Warning] No further splits with positive gain, best gain: -inf\n",
                  "[LightGBM] [Warning] No further splits with positive gain, best gain: -inf\n",
                  "[LightGBM] [Warning] No further splits with positive gain, best gain: -inf\n",
                  "[LightGBM] [Warning] No further splits with positive gain, best gain: -inf\n",
                  "[LightGBM] [Warning] No further splits with positive gain, best gain: -inf\n",
                  "[LightGBM] [Warning] No further splits with positive gain, best gain: -inf\n",
                  "[LightGBM] [Warning] No further splits with positive gain, best gain: -inf\n",
                  "[LightGBM] [Warning] No further splits with positive gain, best gain: -inf\n",
                  "[LightGBM] [Warning] No further splits with positive gain, best gain: -inf\n",
                  "[LightGBM] [Warning] No further splits with positive gain, best gain: -inf\n",
                  "[LightGBM] [Warning] No further splits with positive gain, best gain: -inf\n",
                  "[LightGBM] [Warning] No further splits with positive gain, best gain: -inf\n",
                  "[LightGBM] [Warning] No further splits with positive gain, best gain: -inf\n",
                  "[LightGBM] [Warning] No further splits with positive gain, best gain: -inf\n",
                  "[LightGBM] [Warning] No further splits with positive gain, best gain: -inf\n",
                  "[LightGBM] [Warning] No further splits with positive gain, best gain: -inf\n",
                  "[LightGBM] [Warning] No further splits with positive gain, best gain: -inf\n",
                  "[LightGBM] [Warning] No further splits with positive gain, best gain: -inf\n",
                  "[LightGBM] [Warning] No further splits with positive gain, best gain: -inf\n",
                  "[LightGBM] [Warning] No further splits with positive gain, best gain: -inf\n",
                  "[LightGBM] [Warning] No further splits with positive gain, best gain: -inf\n",
                  "[LightGBM] [Warning] No further splits with positive gain, best gain: -inf\n",
                  "[LightGBM] [Warning] No further splits with positive gain, best gain: -inf\n",
                  "[LightGBM] [Warning] No further splits with positive gain, best gain: -inf\n",
                  "[LightGBM] [Warning] No further splits with positive gain, best gain: -inf\n",
                  "[LightGBM] [Warning] No further splits with positive gain, best gain: -inf\n",
                  "[LightGBM] [Warning] No further splits with positive gain, best gain: -inf\n",
                  "[LightGBM] [Warning] No further splits with positive gain, best gain: -inf\n",
                  "[LightGBM] [Warning] No further splits with positive gain, best gain: -inf\n",
                  "[LightGBM] [Warning] No further splits with positive gain, best gain: -inf\n",
                  "[LightGBM] [Warning] No further splits with positive gain, best gain: -inf\n",
                  "[LightGBM] [Warning] No further splits with positive gain, best gain: -inf\n",
                  "[LightGBM] [Warning] No further splits with positive gain, best gain: -inf\n",
                  "[LightGBM] [Warning] No further splits with positive gain, best gain: -inf\n",
                  "[LightGBM] [Warning] No further splits with positive gain, best gain: -inf\n",
                  "[LightGBM] [Warning] No further splits with positive gain, best gain: -inf\n",
                  "[LightGBM] [Warning] No further splits with positive gain, best gain: -inf\n",
                  "[LightGBM] [Warning] No further splits with positive gain, best gain: -inf\n",
                  "[LightGBM] [Warning] No further splits with positive gain, best gain: -inf\n",
                  "[LightGBM] [Warning] No further splits with positive gain, best gain: -inf\n",
                  "[LightGBM] [Warning] No further splits with positive gain, best gain: -inf\n",
                  "[LightGBM] [Warning] No further splits with positive gain, best gain: -inf\n",
                  "[LightGBM] [Warning] No further splits with positive gain, best gain: -inf\n",
                  "[LightGBM] [Warning] No further splits with positive gain, best gain: -inf\n",
                  "[LightGBM] [Warning] No further splits with positive gain, best gain: -inf\n",
                  "[LightGBM] [Warning] No further splits with positive gain, best gain: -inf\n",
                  "[LightGBM] [Warning] No further splits with positive gain, best gain: -inf\n",
                  "[LightGBM] [Warning] No further splits with positive gain, best gain: -inf\n",
                  "[LightGBM] [Warning] No further splits with positive gain, best gain: -inf\n",
                  "[LightGBM] [Warning] No further splits with positive gain, best gain: -inf\n",
                  "[LightGBM] [Warning] No further splits with positive gain, best gain: -inf\n",
                  "[LightGBM] [Warning] No further splits with positive gain, best gain: -inf\n",
                  "[LightGBM] [Warning] No further splits with positive gain, best gain: -inf\n",
                  "[LightGBM] [Warning] No further splits with positive gain, best gain: -inf\n",
                  "[LightGBM] [Warning] No further splits with positive gain, best gain: -inf\n",
                  "[LightGBM] [Warning] No further splits with positive gain, best gain: -inf\n",
                  "[LightGBM] [Warning] No further splits with positive gain, best gain: -inf\n",
                  "[LightGBM] [Warning] No further splits with positive gain, best gain: -inf\n",
                  "[LightGBM] [Warning] No further splits with positive gain, best gain: -inf\n",
                  "[LightGBM] [Warning] No further splits with positive gain, best gain: -inf\n",
                  "[LightGBM] [Warning] No further splits with positive gain, best gain: -inf\n",
                  "[LightGBM] [Warning] No further splits with positive gain, best gain: -inf\n",
                  "[LightGBM] [Warning] No further splits with positive gain, best gain: -inf\n",
                  "[LightGBM] [Warning] No further splits with positive gain, best gain: -inf\n",
                  "With tuning\n",
                  "              precision    recall  f1-score   support\n",
                  "\n",
                  "           0       0.98      0.99      0.99      2002\n",
                  "           1       0.82      0.52      0.63        99\n",
                  "\n",
                  "    accuracy                           0.97      2101\n",
                  "   macro avg       0.90      0.75      0.81      2101\n",
                  "weighted avg       0.97      0.97      0.97      2101\n",
                  "\n",
                  "Best parameters\n",
                  "{'subsample': 0.9, 'num_leaves': 48, 'n_estimators': 500, 'learning_rate': 0.2, 'colsample_bytree': 0.8}\n"
               ]
            }
         ],
         "source": [
            "from sklearn.model_selection import RandomizedSearchCV\n",
            "from sklearn.metrics import classification_report\n",
            "\n",
            "param_grid = {\n",
            "    \"n_estimators\": [100, 250, 500],\n",
            "    \"learning_rate\": [0.05, 0.1, 0.2],\n",
            "    \"num_leaves\": [31, 48, 64],\n",
            "    \"colsample_bytree\": [0.8, 0.9, 1.0],\n",
            "    \"subsample\": [0.8, 0.9, 1.0],\n",
            "}\n",
            "\n",
            "model = LGBMClassifier(random_state=0, n_estimators=500, n_jobs=-1, importance_type='gain')\n",
            "model = model.fit(X_train_res, y_train_res)\n",
            "\n",
            "print(\"Without tuning\")\n",
            "print(classification_report(y_test, model.predict(X_test)))\n",
            "\n",
            "model = LGBMClassifier(random_state=0, importance_type='gain')\n",
            "grid_search = RandomizedSearchCV(model, param_grid, cv=5, scoring='roc_auc', n_iter=50, n_jobs=-1)\n",
            "\n",
            "results = grid_search.fit(X_train_res, y_train_res)\n",
            "\n",
            "auroc = roc_auc_score(y_test, results.predict_proba(X_test)[:, 1])\n",
            "\n",
            "print(\"With tuning\")\n",
            "print(classification_report(y_test, results.predict(X_test)))\n",
            "print(\"Best parameters\")\n",
            "print(results.best_params_)"
         ]
      },
      {
         "cell_type": "code",
         "execution_count": 45,
         "metadata": {
            "editable": true,
            "slideshow": {
               "slide_type": ""
            },
            "tags": [
               "ex"
            ]
         },
         "outputs": [
            {
               "name": "stdout",
               "output_type": "stream",
               "text": [
                  "Solution is correct!\n"
               ]
            }
         ],
         "source": [
            "assert 0.9 <= auroc <= 0.99\n",
            "\n",
            "print(\"Solution is correct!\")"
         ]
      },
      {
         "cell_type": "markdown",
         "metadata": {
            "editable": true,
            "pycharm": {
               "name": "#%% md\n"
            },
            "slideshow": {
               "slide_type": ""
            },
            "tags": [
               "ex"
            ]
         },
         "source": [
            "// skomentuj tutaj"
         ]
      },
      {
         "cell_type": "markdown",
         "metadata": {
            "editable": true,
            "pycharm": {
               "name": "#%% md\n"
            },
            "slideshow": {
               "slide_type": ""
            },
            "tags": []
         },
         "source": [
            "**Boosting - podsumowanie**\n",
            "\n",
            "1. Model oparty o uczenie zespołowe.\n",
            "2. Kolejne modele są dodawane sekwencyjnie i uczą się na błędach poprzedników.\n",
            "3. Nauka typowo jest oparta o minimalizację funkcji kosztu (błędu), z użyciem spadku wzdłuż gradientu.\n",
            "4. Wiodący model klasyfikacji dla danych tabelarycznych, z 2 głównymi implementacjami: XGBoost i LightGBM.\n",
            "5. Liczne hiperparametry, wymagające odpowiednich metod dostrajania."
         ]
      },
      {
         "cell_type": "markdown",
         "metadata": {
            "editable": true,
            "pycharm": {
               "name": "#%% md\n"
            },
            "slideshow": {
               "slide_type": ""
            },
            "tags": []
         },
         "source": [
            "## Wyjaśnialna AI"
         ]
      },
      {
         "cell_type": "markdown",
         "metadata": {
            "editable": true,
            "pycharm": {
               "name": "#%% md\n"
            },
            "slideshow": {
               "slide_type": ""
            },
            "tags": []
         },
         "source": [
            "W ostatnich latach zaczęto zwracać coraz większą uwagę na wpływ sztucznej inteligencji na społeczeństwo, a na niektórych czołowych konferencjach ML nawet obowiązkowa jest sekcja \"Social impact\" w artykułach naukowych. Typowo im lepszy model, tym bardziej złożony, a najpopularniejsze modele boostingu są z natury skomplikowane. Kiedy mają podejmować krytyczne decyzje, to musimy wiedzieć, czemu predykcja jest taka, a nie inna. Jest to poddziedzina uczenia maszynowego - **wyjaśnialna AI (explainable AI, XAI)**.\n",
            "\n",
            "Taka informacja jest cenna, bo dzięki temu lepiej wiemy, co robi model. Jest to ważne z kilku powodów:\n",
            "1. Wymogi prawne - wdrażanie algorytmów w ekonomii, prawie etc. ma coraz częściej konkretne wymagania prawne co do wyjaśnialności predykcji.\n",
            "2. Dodatkowa wiedza dla użytkowników - często dodatkowe obserwacje co do próbek są ciekawe same w sobie i dają wiedzę użytkownikowi (często posiadającemu specjalistyczną wiedzę z dziedziny), czasem nawet bardziej niż sam model predykcyjny.\n",
            "3. Analiza modelu - dodatkowa wiedza o wewnętrznym działaniu algorytmu pozwala go lepiej zrozumieć i ulepszyć wyniki, np. przez lepszy preprocessing danych.\n",
            "\n",
            "W szczególności można ją podzielić na **globalną** oraz **lokalną interpretowalność (global / local interpretability)**. Ta pierwsza próbuje wyjaśnić, czemu ogólnie model działa tak, jak działa. Analizuje strukturę modelu oraz trendy w jego predykcjach, aby podsumować w prostszy sposób jego tok myślenia. Interpretowalność lokalna z kolei dotyczy predykcji dla konkretnych próbek - czemu dla danego przykładu model podejmuje dla niego taką, a nie inną decyzję o klasyfikacji.\n",
            "\n",
            "W szczególności podstawowym sposobem interpretowalności jest **ważność cech (feature importance)**. Wyznacza ona, jak ważne są poszczególne cechy:\n",
            "- w wariancie globalnym, jak mocno model opiera się na poszczególnych cechach,\n",
            "- w wariancie lokalnym, jak mocno konkretne wartości cech wpłynęły na predykcję, i w jaki sposób.\n",
            "\n",
            "Teraz będzie nas interesować globalna ważność cech. Dla modeli drzewiastych definiuje się ją bardzo prosto. Każdy podział w drzewie decyzyjnym wykorzystuje jakąś cechę i redukuje z pomocą podziału funkcję kosztu (np. entropię) o określoną ilość. Dla drzewa decyzyjnego ważność to sumaryczna redukcja entropii, jaką udało się uzyskać za pomocą danej cechy. Dla lasów losowych i boostingu sumujemy te wartości dla wszystkich drzew. Alternatywnie można też użyć liczby splitów, w jakiej została użyta dana cecha, ale jest to mniej standardowe.\n",
            "\n",
            "Warto zauważyć, że taka ważność cech jest **względna**:\n",
            "- nie mówimy, jak bardzo ogólnie ważna jest jakaś cecha, tylko jak bardzo przydatna była dla naszego modelu w celu jego wytrenowania,\n",
            "- ważność cech można tylko porównywać ze sobą, np. jedna jest 2 razy ważniejsza od drugiej; nie ma ogólnych progów ważności.\n",
            "\n",
            "Ze względu na powyższe, ważności cech normalizuje się często do zakresu [0, 1] dla łatwiejszego porównywania."
         ]
      },
      {
         "cell_type": "markdown",
         "metadata": {
            "editable": true,
            "slideshow": {
               "slide_type": ""
            },
            "tags": [
               "ex"
            ]
         },
         "source": [
            "### Zadanie 9 (0.5 punktu)"
         ]
      },
      {
         "cell_type": "markdown",
         "metadata": {
            "editable": true,
            "slideshow": {
               "slide_type": ""
            },
            "tags": [
               "ex"
            ]
         },
         "source": [
            "1. Wybierz 5 najważniejszych cech dla drzewa decyzyjnego. Przedstaw wyniki na poziomym wykresie słupkowym. Użyj czytelnych nazw cech ze zmiennej `feature_names`.\n",
            "2. Powtórz powyższe dla lasu losowego, oraz dla boostingu (tutaj znormalizuj wyniki - patrz uwaga niżej). Wybierz te hiperparametry, które dały wcześniej najlepsze wyniki.\n",
            "3. Skomentuj, czy wybrane cechy twoim zdaniem mają sens jako najważniejsze cechy.\n",
            "\n",
            "**Uwaga:** Scikit-learn normalizuje ważności do zakresu [0, 1], natomiast LightGBM nie. Musisz to znormalizować samodzielnie, dzieląc przez sumę."
         ]
      },
      {
         "cell_type": "code",
         "execution_count": null,
         "metadata": {
            "editable": true,
            "slideshow": {
               "slide_type": ""
            },
            "tags": [
               "ex"
            ]
         },
         "outputs": [],
         "source": [
            "# your_code\n"
         ]
      },
      {
         "cell_type": "markdown",
         "metadata": {
            "editable": true,
            "slideshow": {
               "slide_type": ""
            },
            "tags": [
               "ex"
            ]
         },
         "source": [
            "// skomentuj tutaj"
         ]
      },
      {
         "cell_type": "markdown",
         "metadata": {},
         "source": [
            "### Dla zainteresowanych\n",
            "\n",
            "Najpopularniejszym podejściem do interpretowalności lokalnych jest **SHAP (SHapley Additive exPlanations)**, metoda oparta o kooperatywną teorię gier. Traktuje się cechy modelu jak zbiór graczy, podzielonych na dwie drużyny (koalicje): jedna chce zaklasyfikować próbkę jako negatywną, a druga jako pozytywną. O ostatecznej decyzji decyduje model, który wykorzystuje te wartości cech. Powstaje pytanie - w jakim stopniu wartości cech przyczyniły się do wyniku swojej drużyny? Można to obliczyć jako wartości Shapleya (Shapley values), które dla modeli ML oblicza algorytm SHAP. Ma on bardzo znaczące, udowodnione matematycznie zalety, a dodatkowo posiada wyjątkowo efektywną implementację dla modeli drzewiastych oraz dobre wizualizacje.\n",
            "\n",
            "Bardzo intuicyjnie, na prostym przykładzie, SHAPa wyjaśnia [pierwsza część tego artykułu](https://iancovert.com/blog/understanding-shap-sage/). Dobrze i dość szczegółówo SHAPa wyjaśnia jego autor [w tym filmie](https://www.youtube.com/watch?v=-taOhqkiuIo)."
         ]
      },
      {
         "cell_type": "markdown",
         "metadata": {
            "pycharm": {
               "name": "#%% md\n"
            }
         },
         "source": [
            "**Wyjaśnialna AI - podsumowanie**\n",
            "\n",
            "1. Problem zrozumienia, jak wnioskuje model i czemu podejmuje określone decyzje.\n",
            "2. Ważne zarówno z perspektywy data badaczy danych, jak i użytkowników systemu.\n",
            "3. Można wyjaśniać model lokalnie (konkretne predykcje) lub globalnie (wpływ poszczególnych cech)."
         ]
      },
      {
         "cell_type": "markdown",
         "metadata": {
            "editable": true,
            "slideshow": {
               "slide_type": ""
            },
            "tags": [
               "ex"
            ]
         },
         "source": [
            "## Zadanie 10 dla chętnych (3 punkty)"
         ]
      },
      {
         "cell_type": "markdown",
         "metadata": {
            "editable": true,
            "pycharm": {
               "name": "#%% md\n"
            },
            "slideshow": {
               "slide_type": ""
            },
            "tags": [
               "ex"
            ]
         },
         "source": [
            "Dokonaj selekcji cech, usuwając 20% najsłabszych cech. Może się tu przydać klasa `SelectPercentile`. Czy Random Forest i LightGBM (bez dostrajania hiperparametrów, dla uproszczenia) wytrenowane bez najsłabszych cech dają lepszy wynik (AUROC lub innej metryki)?\n",
            "\n",
            "Wykorzystaj po 1 algorytmie z 3 grup algorytmów selekcji cech:\n",
            "1. Filter methods - mierzymy ważność każdej cechy niezależnie, za pomocą pewnej miary (typowo ze statystyki lub teorii informacji), a potem odrzucamy (filtrujemy) te o najniższej ważności. Są to np. `chi2` i `mutual_info_classif` z pakietu `sklearn.feature_selection`.\n",
            "2. Embedded methods - klasyfikator sam zwraca ważność cech, jest jego wbudowaną cechą (stąd nazwa). Jest to w szczególności właściwość wszystkich zespołowych klasyfikatorów drzewiastych. Mają po wytrenowaniu atrybut `feature_importances_`.\n",
            "2. Wrapper methods - algorytmy wykorzystujące w środku używany model (stąd nazwa), mierzące ważność cech za pomocą ich wpływu na jakość klasyfikatora. Jest to np. recursive feature elimination (klasa `RFE`). W tym algorytmie trenujemy klasyfikator na wszystkich cechach, wyrzucamy najsłabszą, trenujemy znowu i tak dalej.\n",
            "\n",
            "Typowo metody filter są najszybsze, ale dają najsłabszy wynik, natomiast metody wrapper są najwolniejsze i dają najlepszy wynik. Metody embedded są gdzieś pośrodku.\n",
            "\n",
            "Dla zainteresowanych, inne znane i bardzo dobre algorytmy:\n",
            "- Relief (filter method) oraz warianty, szczególnie ReliefF, SURF i MultiSURF (biblioteka `ReBATE`): [Wikipedia](https://en.wikipedia.org/wiki/Relief_(feature_selection)), [artykuł \"Benchmarking Relief-Based Feature Selection Methods\"](https://www.researchgate.net/publication/321307194_Benchmarking_Relief-Based_Feature_Selection_Methods)\n",
            "- Boruta (wrapper method), stworzony na Uniwersytecie Warszawskim, łączący Random Forest oraz testy statystyczne (biblioteka `boruta_py`): [link 1](https://towardsdatascience.com/boruta-explained-the-way-i-wish-someone-explained-it-to-me-4489d70e154a), [link 2](https://danielhomola.com/feature%20selection/phd/borutapy-an-all-relevant-feature-selection-method/)"
         ]
      },
      {
         "cell_type": "code",
         "execution_count": null,
         "metadata": {
            "editable": true,
            "pycharm": {
               "name": "#%%\n"
            },
            "slideshow": {
               "slide_type": ""
            },
            "tags": [
               "ex"
            ]
         },
         "outputs": [],
         "source": []
      }
   ],
   "metadata": {
      "jupytext": {
         "formats": "ipynb,py:percent"
      },
      "kernelspec": {
         "display_name": "ai-course-agh-JW_xEtpr-py3.11",
         "language": "python",
         "name": "python3"
      },
      "language_info": {
         "codemirror_mode": {
            "name": "ipython",
            "version": 3
         },
         "file_extension": ".py",
         "mimetype": "text/x-python",
         "name": "python",
         "nbconvert_exporter": "python",
         "pygments_lexer": "ipython3",
         "version": "3.11.4"
      }
   },
   "nbformat": 4,
   "nbformat_minor": 4
}
